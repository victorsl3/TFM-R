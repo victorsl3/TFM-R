{
 "cells": [
  {
   "cell_type": "code",
   "execution_count": null,
   "metadata": {},
   "outputs": [],
   "source": [
    "# Importar funciones de procesamiento de datos\n",
    "from limpieza_datos import *\n",
    "\n",
    "# Importar la clase del modelo y funciones de entrenamiento/evaluación\n",
    "# from GNN import MultiKRWithGCN\n",
    "from train_and_evaluate import *\n",
    "\n",
    "from KGs import *\n",
    "\n",
    "# Importar funciones para modelar el EDA\n",
    "from edas import *\n",
    "\n",
    "import numpy as np\n",
    "import matplotlib.pyplot as plt"
   ]
  },
  {
   "cell_type": "code",
   "execution_count": null,
   "metadata": {},
   "outputs": [],
   "source": [
    "# Procesar los datos y capturar los mapeos\n",
    "item_index_old2new, entity_id2index = read_item_index_to_entity_id_file()"
   ]
  },
  {
   "cell_type": "code",
   "execution_count": null,
   "metadata": {},
   "outputs": [],
   "source": [
    "convert_rating(item_index_old2new)\n",
    "entity_id2index, relation_id2index = convert_kg()"
   ]
  },
  {
   "cell_type": "code",
   "execution_count": null,
   "metadata": {},
   "outputs": [],
   "source": [
    "# Carga o genera edge_index una sola vez antes del entrenamiento\n",
    "edge_index = load_kg_and_create_edge_index(entity_id2index,relation_id2index)"
   ]
  },
  {
   "cell_type": "code",
   "execution_count": null,
   "metadata": {},
   "outputs": [],
   "source": [
    "# Mapeo de tipos de relaciones a tipos de entidades ajustado a tu descripción\n",
    "relation_to_entity_types = {\n",
    "    'book.book.genre': ('book', 'genre'),\n",
    "    'book.written_work.date_of_first_publication': ('book', 'date'),\n",
    "    'book.literary_series.author': ('series', 'author'),\n",
    "    'comic_books.series.publisher': ('comic_series', 'publisher'),\n",
    "    'book.written_work.author': ('book', 'author'),\n",
    "    'book.literary_series.works_in_this_series': ('series', 'work'),\n",
    "    'book.written_work.translation': ('original_work', 'translation'),\n",
    "    'book.written_work.subject': ('work', 'subject'),\n",
    "    'book.written_work.literary_series': ('work', 'series'),\n",
    "    'book.written_work.previous_in_series': ('work', 'previous_work'),\n",
    "}\n",
    "\n",
    "\n",
    "# Generar el mapeo de ID de entidad a tipo basado en el archivo kg.txt y el mapeo relation_to_entity_types\n",
    "entity_to_type = generate_entity_to_type_mapping('./MKR-data/kg.txt', relation_to_entity_types)\n",
    "\n",
    "# Mapeo de índice de relación a nombre de relación (debes definir este mapeo basado en tu datos)\n",
    "index_to_relation_name = {\n",
    "    0: 'book.book.genre',\n",
    "    1: 'book.written_work.date_of_first_publication',\n",
    "    2: 'book.literary_series.author',\n",
    "    3: 'comic_books.series.publisher',\n",
    "    4: 'book.written_work.author',\n",
    "    5: 'book.literary_series.works_in_this_series',\n",
    "    6: 'book.written_work.translation',\n",
    "    7: 'book.written_work.subject',\n",
    "    8: 'book.written_work.literary_series',\n",
    "    9: 'book.written_work.previous_in_series'\n",
    "}"
   ]
  },
  {
   "cell_type": "code",
   "execution_count": null,
   "metadata": {},
   "outputs": [],
   "source": [
    "kg_file_path = './MKR-data/kg.txt'\n",
    "output_path = './MKR-data/'\n",
    "\n",
    "# Llama a la función como antes, omitiendo 'relation_id2index' y 'index_to_relation_name'\n",
    "# adapt_and_split_kg_data_with_slashes(entity_id2index, relation_to_entity_types, kg_file_path, output_path)"
   ]
  },
  {
   "cell_type": "code",
   "execution_count": null,
   "metadata": {},
   "outputs": [],
   "source": [
    "# Preparar los datos para el entrenamiento y la evaluación\n",
    "ratings = np.loadtxt('./MKR-data/ratings_final.txt', dtype=np.int32)\n",
    "train_data, eval_data, test_data = dataset_split(ratings)\n",
    "\n",
    "# Convertir los conjuntos de datos a DataLoader\n",
    "train_loader = DataLoader(TrainSet(train_data), batch_size=64, shuffle=True)\n",
    "val_loader = DataLoader(TrainSet(eval_data), batch_size=64, shuffle=True)\n",
    "eval_loader = DataLoader(TrainSet(test_data), batch_size=64, shuffle=False)\n"
   ]
  },
  {
   "cell_type": "code",
   "execution_count": null,
   "metadata": {},
   "outputs": [],
   "source": [
    "print(\"Training dataset summary:\")\n",
    "summarize_dataset(TrainSet(train_data))\n",
    "\n",
    "print(\"\\nEvaluation dataset summary:\")\n",
    "summarize_dataset(TrainSet(eval_data))\n",
    "\n",
    "# Comprobar una muestra de los datos cargados\n",
    "sample_user, sample_item, sample_target = next(iter(eval_loader))\n",
    "print(\"\\nSample batch from eval_loader:\")\n",
    "print(f\"User tensor: {sample_user}\")\n",
    "print(f\"Item tensor: {sample_item}\")\n",
    "print(f\"Target tensor: {sample_target}\")\n"
   ]
  },
  {
   "cell_type": "markdown",
   "metadata": {},
   "source": [
    "## DATA LOADER"
   ]
  },
  {
   "cell_type": "markdown",
   "metadata": {},
   "source": [
    "### KG"
   ]
  },
  {
   "cell_type": "code",
   "execution_count": null,
   "metadata": {},
   "outputs": [],
   "source": [
    "kg_data = np.loadtxt('./MKR-data/kg_final.txt', dtype=int)\n",
    "# Calcular el número total de entidades en el KG\n",
    "num_entities = max(np.max(kg_data[:, 0]), np.max(kg_data[:, 2])) + 1\n",
    "\n",
    "\n",
    "kg_train_set=KGTrainSet(kg_data)\n",
    "kg_train_loader = DataLoader(kg_train_set, batch_size=64, shuffle=True)"
   ]
  },
  {
   "cell_type": "markdown",
   "metadata": {},
   "source": [
    "### REC"
   ]
  },
  {
   "cell_type": "code",
   "execution_count": null,
   "metadata": {},
   "outputs": [],
   "source": [
    "# Preparar los datos para el entrenamiento y la evaluación de recomendaciones\n",
    "ratings = np.loadtxt('./MKR-data/ratings_final.txt', dtype=np.int32)\n",
    "train_data, eval_data, test_data = dataset_split(ratings)\n",
    "\n",
    "# Convertir los conjuntos de datos a DataLoader para las recomendaciones\n",
    "rec_train_loader = DataLoader(TrainSet(train_data), batch_size=64, shuffle=True)\n",
    "rec_val_loader = DataLoader(TrainSet(eval_data), batch_size=64, shuffle=True)\n",
    "rec_eval_loader = DataLoader(TrainSet(test_data), batch_size=64, shuffle=False)\n"
   ]
  },
  {
   "cell_type": "code",
   "execution_count": null,
   "metadata": {},
   "outputs": [],
   "source": [
    "# Inicializar el modelo MultiKR\n",
    "user_num = len(np.unique(ratings[:, 0]))  # Número de usuarios únicos\n",
    "item_num = len(item_index_old2new)  # Número de ítems únicos\n",
    "entity_num = len(entity_id2index)  # Número de entidades únicas\n",
    "relation_num = len(np.unique(kg_data[:, 1])) # Número de relaciones únicas"
   ]
  },
  {
   "cell_type": "markdown",
   "metadata": {},
   "source": [
    "## EDA para optimizacion"
   ]
  },
  {
   "cell_type": "code",
   "execution_count": null,
   "metadata": {},
   "outputs": [],
   "source": [
    "# Obteniendo variables y posibles valores para KG y Recomendación\n",
    "variables_kg, variables_rec = define_variables_for_KG_and_rec()\n",
    "\n",
    "combined_variables_and_values = {**variables_kg, **variables_rec}\n"
   ]
  },
  {
   "cell_type": "code",
   "execution_count": null,
   "metadata": {},
   "outputs": [],
   "source": [
    "# Convertir combined_variables_and_values en la estructura esperada por EBNA\n",
    "possible_values_numeric = {i: combined_variables_and_values[var] for i, var in enumerate(combined_variables_and_values)}\n",
    "frequency_numeric = {i: [1/len(possible_values_numeric[i])] * len(possible_values_numeric[i]) for i in possible_values_numeric}"
   ]
  },
  {
   "cell_type": "code",
   "execution_count": null,
   "metadata": {},
   "outputs": [],
   "source": [
    "len(possible_values_numeric)"
   ]
  },
  {
   "cell_type": "code",
   "execution_count": null,
   "metadata": {},
   "outputs": [],
   "source": [
    "from EDAspy.optimization import EBNA\n",
    "\n",
    "# Inicializar EBNA con el espacio de soluciones y frecuencias definidas\n",
    "ebna = EBNA(\n",
    "    size_gen=100,\n",
    "    max_iter=50,\n",
    "    dead_iter=10,\n",
    "    n_variables=len(possible_values_numeric),\n",
    "    alpha=0.8,\n",
    "    possible_values=possible_values_numeric,\n",
    "    frequency=frequency_numeric\n",
    ")"
   ]
  },
  {
   "cell_type": "code",
   "execution_count": null,
   "metadata": {},
   "outputs": [],
   "source": [
    "# Definir la función de envoltura para EBNA, pasando los parámetros necesarios\n",
    "multiKR_cost_wrapper_with_params = lambda solution: multiKR_cost_wrapper_eda(solution)"
   ]
  },
  {
   "cell_type": "code",
   "execution_count": null,
   "metadata": {},
   "outputs": [],
   "source": [
    "# Ejecutar EBNA\n",
    "ebna_result = ebna.minimize(multiKR_cost_wrapper_with_params)"
   ]
  }
 ],
 "metadata": {
  "kernelspec": {
   "display_name": "transformers",
   "language": "python",
   "name": "python3"
  },
  "language_info": {
   "codemirror_mode": {
    "name": "ipython",
    "version": 3
   },
   "file_extension": ".py",
   "mimetype": "text/x-python",
   "name": "python",
   "nbconvert_exporter": "python",
   "pygments_lexer": "ipython3",
   "version": "3.8.18"
  }
 },
 "nbformat": 4,
 "nbformat_minor": 2
}
