{
 "cells": [
  {
   "cell_type": "code",
   "execution_count": 15,
   "metadata": {},
   "outputs": [],
   "source": [
    "from Embeddings import *\n",
    "import torch\n",
    "import torch.nn.functional as F"
   ]
  },
  {
   "cell_type": "code",
   "execution_count": 16,
   "metadata": {},
   "outputs": [],
   "source": [
    "# Definiciones iniciales\n",
    "num_entities = 5\n",
    "num_relations = 3\n",
    "entity_dim = 4\n",
    "relation_dim = 4\n",
    "\n",
    "# Instancia de KnowledgeGraphEmbeddings\n",
    "kg_embeddings = KnowledgeGraphEmbeddings(num_entities, num_relations, entity_dim, relation_dim)\n"
   ]
  },
  {
   "cell_type": "code",
   "execution_count": 26,
   "metadata": {},
   "outputs": [],
   "source": [
    "# Ejemplo de tripleta: hu (head), hr (relation), hv (tail)\n",
    "hu = torch.randn(entity_dim)\n",
    "hr = torch.randn(relation_dim)\n",
    "hv = torch.randn(entity_dim)"
   ]
  },
  {
   "cell_type": "code",
   "execution_count": 37,
   "metadata": {},
   "outputs": [
    {
     "name": "stdout",
     "output_type": "stream",
     "text": [
      "TransE Score: -3.3614273071289062\n",
      "DistMult Score: -1.7132247686386108\n",
      "TransH Score: -2.0857937335968018\n",
      "TransD Score: -3.950741767883301\n",
      "RotatE Score: -2.3301517963409424\n",
      "QuatE Score: 4.184004306793213\n"
     ]
    }
   ],
   "source": [
    "# Creación de instancias de modelos\n",
    "model_transE = TransE()\n",
    "model_distMult = DistMult()\n",
    "model_transH = TransH()\n",
    "model_transD = TransD()\n",
    "model_rotate = RotatE()\n",
    "model_quate = QuatE()\n",
    "\n",
    "# Cálculo de puntuaciones para la tripleta usando cada modelo\n",
    "score_transE = model_transE.score(hu, hr, hv)\n",
    "score_distMult = model_distMult.score(hu, hr, hv)\n",
    "\n",
    "# Para TransH y TransD, necesitamos embeddings auxiliares específicos\n",
    "# Supongamos r = 1 para este ejemplo\n",
    "# Ajuste para acceder a los embeddings auxiliares con claves de tipo str\n",
    "wr, dr = kg_embeddings.wr['1'], kg_embeddings.dr['1']\n",
    "hp, rp = kg_embeddings.hp['1'], kg_embeddings.rp['1']\n",
    "\n",
    "\n",
    "score_transH = model_transH.score(hu, hr, hv, wr, dr)\n",
    "score_transD = model_transD.score(hu, hr, hv, hp, rp)\n",
    "\n",
    "score_rotate = model_rotate.score(hu, hr, hv)\n",
    "score_quate = model_quate.score(hu, hr, hv)\n",
    "\n",
    "# Mostrar las puntuaciones\n",
    "print(f\"TransE Score: {score_transE.item()}\")\n",
    "print(f\"DistMult Score: {score_distMult.item()}\")\n",
    "print(f\"TransH Score: {score_transH.item()}\")\n",
    "print(f\"TransD Score: {score_transD.item()}\")\n",
    "print(f\"RotatE Score: {score_rotate.item()}\")\n",
    "print(f\"QuatE Score: {score_quate.item()}\")\n"
   ]
  }
 ],
 "metadata": {
  "kernelspec": {
   "display_name": "transformers",
   "language": "python",
   "name": "python3"
  },
  "language_info": {
   "codemirror_mode": {
    "name": "ipython",
    "version": 3
   },
   "file_extension": ".py",
   "mimetype": "text/x-python",
   "name": "python",
   "nbconvert_exporter": "python",
   "pygments_lexer": "ipython3",
   "version": "3.8.18"
  }
 },
 "nbformat": 4,
 "nbformat_minor": 2
}
