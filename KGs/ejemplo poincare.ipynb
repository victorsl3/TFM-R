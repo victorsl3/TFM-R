{
 "cells": [
  {
   "cell_type": "code",
   "execution_count": 1,
   "metadata": {},
   "outputs": [],
   "source": [
    "from poincareball import PoincareBall\n",
    "from hyperbolic.poincare import Point\n"
   ]
  },
  {
   "cell_type": "code",
   "execution_count": 3,
   "metadata": {},
   "outputs": [
    {
     "name": "stdout",
     "output_type": "stream",
     "text": [
      "Nuevo punto a partir del mapa exponencial: Point(-0.149, 0.05)\n",
      "Vector a partir del mapa logarítmico: Point(-0.621, 0.207)\n",
      "Suma de Möbius de los puntos: Point(0.08, 0.789)\n",
      "Distancia geodésica entre los puntos: 0.654900300474517\n"
     ]
    }
   ],
   "source": [
    "\n",
    "# Ejemplo de uso de la clase:\n",
    "poincare_disk = PoincareBall()\n",
    "\n",
    "# Crear puntos en el disco de Poincaré:\n",
    "p1 = Point(0.2, 0.3)  # Un punto de ejemplo\n",
    "p2 = Point(-0.1, 0.4)  # Otro punto de ejemplo\n",
    "\n",
    "# Calcular el mapa exponencial desde p1 en la dirección de p2\n",
    "tangent_vector = poincare_disk.subtract(p2,p1)\n",
    "new_point = poincare_disk.exp_map(p1, tangent_vector)\n",
    "\n",
    "# Calcular el mapa logarítmico desde p1 a p2\n",
    "log_vector = poincare_disk.log_map(p1, p2)\n",
    "\n",
    "# Calcular la adición de Möbius de p1 y p2\n",
    "mobius_sum = poincare_disk.mobius_addition(p1, p2)\n",
    "\n",
    "# Calcular la distancia geodésica entre p1 y p2\n",
    "distance = poincare_disk.geodesic_distance(p1, p2)\n",
    "\n",
    "print(f\"Nuevo punto a partir del mapa exponencial: {new_point}\")\n",
    "print(f\"Vector a partir del mapa logarítmico: {log_vector}\")\n",
    "print(f\"Suma de Möbius de los puntos: {mobius_sum}\")\n",
    "print(f\"Distancia geodésica entre los puntos: {distance}\")"
   ]
  }
 ],
 "metadata": {
  "kernelspec": {
   "display_name": "transformers",
   "language": "python",
   "name": "python3"
  },
  "language_info": {
   "codemirror_mode": {
    "name": "ipython",
    "version": 3
   },
   "file_extension": ".py",
   "mimetype": "text/x-python",
   "name": "python",
   "nbconvert_exporter": "python",
   "pygments_lexer": "ipython3",
   "version": "3.8.18"
  }
 },
 "nbformat": 4,
 "nbformat_minor": 2
}
