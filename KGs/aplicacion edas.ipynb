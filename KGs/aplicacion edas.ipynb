{
 "cells": [
  {
   "cell_type": "code",
   "execution_count": 1,
   "metadata": {},
   "outputs": [],
   "source": [
    "# Importar funciones de procesamiento de datos\n",
    "from limpieza_datos import read_item_index_to_entity_id_file, convert_rating, convert_kg, visualize_kg_from_file, generate_entity_to_type_mapping, dataset_split, DataLoader, TrainSet, summarize_dataset\n",
    "\n",
    "# Importar la clase del modelo y funciones de entrenamiento/evaluación\n",
    "from custom_mkr import MultiKR\n",
    "from train_and_evaluate import train_epoch, evaluate_model, train_and_evaluate\n",
    "\n",
    "# Importar funciones para modelar el EDA\n",
    "from edas import setup_model_and_dataloaders, multiKR_cost_function, decode_solution, define_initial_frequency, define_variables_for_multiKR,define_possible_values_for_multiKR, multiKR_cost_wrapper\n",
    "\n",
    "import numpy as np\n",
    "import matplotlib.pyplot as plt"
   ]
  },
  {
   "cell_type": "code",
   "execution_count": 2,
   "metadata": {},
   "outputs": [],
   "source": [
    "# Procesar los datos y capturar los mapeos\n",
    "item_index_old2new, entity_id2index = read_item_index_to_entity_id_file()"
   ]
  },
  {
   "cell_type": "code",
   "execution_count": 3,
   "metadata": {},
   "outputs": [],
   "source": [
    "convert_rating(item_index_old2new)\n",
    "entity_id2index, relation_id2index = convert_kg()"
   ]
  },
  {
   "cell_type": "code",
   "execution_count": 4,
   "metadata": {},
   "outputs": [],
   "source": [
    "# Mapeo de tipos de relaciones a tipos de entidades ajustado a tu descripción\n",
    "relation_to_entity_types = {\n",
    "    'book.book.genre': ('book', 'genre'),\n",
    "    'book.written_work.date_of_first_publication': ('book', 'date'),\n",
    "    'book.literary_series.author': ('series', 'author'),\n",
    "    'comic_books.series.publisher': ('comic_series', 'publisher'),\n",
    "    'book.written_work.author': ('book', 'author'),\n",
    "    'book.literary_series.works_in_this_series': ('series', 'work'),\n",
    "    'book.written_work.translation': ('original_work', 'translation'),\n",
    "    'book.written_work.subject': ('work', 'subject'),\n",
    "    'book.written_work.literary_series': ('work', 'series'),\n",
    "    'book.written_work.previous_in_series': ('work', 'previous_work'),\n",
    "}\n",
    "\n",
    "\n",
    "# Generar el mapeo de ID de entidad a tipo basado en el archivo kg.txt y el mapeo relation_to_entity_types\n",
    "entity_to_type = generate_entity_to_type_mapping('./MKR-data/kg.txt', relation_to_entity_types)\n",
    "\n",
    "# Mapeo de índice de relación a nombre de relación (debes definir este mapeo basado en tu datos)\n",
    "index_to_relation_name = {\n",
    "    0: 'book.book.genre',\n",
    "    1: 'book.written_work.date_of_first_publication',\n",
    "    2: 'book.literary_series.author',\n",
    "    3: 'comic_books.series.publisher',\n",
    "    4: 'book.written_work.author',\n",
    "    5: 'book.literary_series.works_in_this_series',\n",
    "    6: 'book.written_work.translation',\n",
    "    7: 'book.written_work.subject',\n",
    "    8: 'book.written_work.literary_series',\n",
    "    9: 'book.written_work.previous_in_series'\n",
    "}"
   ]
  },
  {
   "cell_type": "code",
   "execution_count": 5,
   "metadata": {},
   "outputs": [
    {
     "data": {
      "text/html": [
       "        <script type=\"text/javascript\">\n",
       "        window.PlotlyConfig = {MathJaxConfig: 'local'};\n",
       "        if (window.MathJax && window.MathJax.Hub && window.MathJax.Hub.Config) {window.MathJax.Hub.Config({SVG: {font: \"STIX-Web\"}});}\n",
       "        if (typeof require !== 'undefined') {\n",
       "        require.undef(\"plotly\");\n",
       "        requirejs.config({\n",
       "            paths: {\n",
       "                'plotly': ['https://cdn.plot.ly/plotly-2.29.1.min']\n",
       "            }\n",
       "        });\n",
       "        require(['plotly'], function(Plotly) {\n",
       "            window._Plotly = Plotly;\n",
       "        });\n",
       "        }\n",
       "        </script>\n",
       "        "
      ]
     },
     "metadata": {},
     "output_type": "display_data"
    }
   ],
   "source": [
    "from plotly.offline import init_notebook_mode\n",
    "init_notebook_mode(connected=True)"
   ]
  },
  {
   "cell_type": "code",
   "execution_count": 6,
   "metadata": {},
   "outputs": [
    {
     "data": {
      "text/html": [
       "        <script type=\"text/javascript\">\n",
       "        window.PlotlyConfig = {MathJaxConfig: 'local'};\n",
       "        if (window.MathJax && window.MathJax.Hub && window.MathJax.Hub.Config) {window.MathJax.Hub.Config({SVG: {font: \"STIX-Web\"}});}\n",
       "        if (typeof require !== 'undefined') {\n",
       "        require.undef(\"plotly\");\n",
       "        requirejs.config({\n",
       "            paths: {\n",
       "                'plotly': ['https://cdn.plot.ly/plotly-2.29.1.min']\n",
       "            }\n",
       "        });\n",
       "        require(['plotly'], function(Plotly) {\n",
       "            window._Plotly = Plotly;\n",
       "        });\n",
       "        }\n",
       "        </script>\n",
       "        "
      ]
     },
     "metadata": {},
     "output_type": "display_data"
    },
    {
     "data": {
      "application/vnd.plotly.v1+json": {
       "config": {
        "linkText": "Export to plot.ly",
        "plotlyServerURL": "https://plot.ly",
        "showLink": false
       },
       "data": [
        {
         "hoverinfo": "text",
         "line": {
          "color": "#888",
          "width": 1
         },
         "mode": "lines",
         "text": [
          "book.book.genre",
          "book.book.genre",
          "book.book.genre",
          "book.book.genre",
          "book.book.genre",
          "book.book.genre",
          "book.book.genre",
          "book.book.genre",
          "book.book.genre",
          "book.written_work.date_of_first_publication",
          "book.book.genre",
          "book.written_work.date_of_first_publication",
          "book.book.genre",
          "book.written_work.date_of_first_publication",
          "book.literary_series.author",
          "book.book.genre",
          "book.written_work.date_of_first_publication",
          "book.literary_series.author",
          "book.book.genre",
          "book.book.genre",
          "book.book.genre",
          "book.literary_series.author",
          "book.book.genre",
          "book.book.genre",
          "book.book.genre",
          "book.book.genre",
          "book.book.genre",
          "book.book.genre",
          "book.book.genre",
          "book.written_work.date_of_first_publication",
          "book.book.genre",
          "book.written_work.date_of_first_publication",
          "book.book.genre",
          "book.written_work.date_of_first_publication",
          "book.book.genre",
          "book.literary_series.author",
          "book.book.genre",
          "book.book.genre",
          "book.book.genre",
          "book.book.genre",
          "book.book.genre",
          "book.written_work.date_of_first_publication",
          "book.literary_series.author",
          "book.book.genre",
          "book.book.genre",
          "book.written_work.date_of_first_publication",
          "book.book.genre",
          "book.book.genre",
          "comic_books.series.publisher",
          "book.book.genre",
          "comic_books.series.publisher",
          "book.book.genre",
          "book.book.genre",
          "book.book.genre",
          "book.book.genre",
          "book.literary_series.author",
          "book.book.genre",
          "book.written_work.date_of_first_publication",
          "book.book.genre",
          "book.book.genre",
          "book.book.genre",
          "book.book.genre",
          "book.written_work.date_of_first_publication",
          "book.written_work.date_of_first_publication",
          "book.book.genre",
          "book.book.genre",
          "book.book.genre",
          "book.written_work.date_of_first_publication",
          "book.written_work.date_of_first_publication",
          "book.written_work.date_of_first_publication",
          "book.book.genre",
          "book.book.genre",
          "book.book.genre",
          "book.book.genre",
          "book.book.genre",
          "book.book.genre",
          "book.book.genre",
          "book.book.genre",
          "book.book.genre",
          "book.book.genre",
          "book.book.genre",
          "book.book.genre",
          "book.book.genre",
          "book.book.genre",
          "book.book.genre",
          "book.book.genre",
          "book.book.genre",
          "book.book.genre",
          "book.written_work.date_of_first_publication",
          "book.book.genre",
          "book.written_work.date_of_first_publication",
          "book.book.genre",
          "book.written_work.date_of_first_publication",
          "book.book.genre",
          "book.book.genre",
          "book.book.genre",
          "book.written_work.date_of_first_publication",
          "book.book.genre",
          "book.written_work.date_of_first_publication",
          "book.book.genre"
         ],
         "type": "scatter",
         "x": [
          0.23670963536335635,
          0.2779795958638776,
          null,
          0.5180963442129013,
          0.6018089657349015,
          null,
          -0.9210127552797266,
          -0.8940393808859817,
          null,
          0.9020255184321704,
          0.971211701397758,
          null,
          -0.2314744858911328,
          -0.2938513861255659,
          null,
          -0.555290239948786,
          -0.5352118062772777,
          null,
          -0.18812516840471946,
          -0.1974700729837108,
          null,
          -0.6043605800002079,
          -0.7388466982248264,
          null,
          0.163353795753067,
          0.1826203887553606,
          null,
          0.7552000899556076,
          0.7301213748982458,
          null,
          -0.8397985172742719,
          -0.9527639966543949,
          null,
          0.19733940996762922,
          0.22438216783858023,
          null,
          0.5711410374874367,
          0.6874018481373617,
          null,
          -0.72955791699922,
          -0.9039072827591688,
          null,
          0.9349229467760243,
          0.9656375995343338,
          null,
          -0.6459333657564639,
          -0.8617370335716663,
          null,
          0.13556055530984265,
          0.18127997761602774,
          null,
          -0.5767003897575835,
          -0.6904574541125693,
          null,
          0.38720676586198294,
          0.4625325626477574,
          null,
          0.8714886665142925,
          0.928564950786448,
          null,
          0.6066518117650537,
          0.6928691710732046,
          null,
          -0.05111906316228348,
          -0.05691251548808956,
          null,
          -0.7617606586575656,
          -0.9276581516448613,
          null,
          -0.17012330077453514,
          -0.1920851917296103,
          null,
          -0.26398951524885084,
          -0.2937242775518616,
          null,
          0.6715485467251427,
          0.7998918107736992,
          null,
          -0.7348112969572214,
          -0.778621003604325,
          null,
          -0.27677647873450406,
          -0.37026845004158154,
          null,
          0.34013582512391877,
          0.40176723076033793,
          null,
          0.6345435466192633,
          0.8484619242498461,
          null,
          -0.5534554471964029,
          -0.6879668752131171,
          null,
          0.8344823604855076,
          0.8636079146409098,
          null,
          0.7204160190269615,
          0.7371763764134913,
          null,
          -0.8208226640559791,
          -0.9092815717284239,
          null,
          -0.7396556069248166,
          -1,
          null,
          0.8819043215854104,
          0.9656375995343338,
          null,
          -0.5318855599619107,
          -0.5915649290759345,
          null,
          0.531637187594073,
          0.6704016782309642,
          null,
          -0.5214741307990337,
          -0.6291439656162038,
          null,
          -0.635854799969227,
          -0.8938031819974603,
          null,
          0.7576278202078321,
          0.8582335400329208,
          null,
          0.007509104259649308,
          0.018201746874568867,
          null,
          0.1368323599894396,
          0.10992303987196257,
          null,
          0.48673250095115034,
          0.581905100358874,
          null,
          -0.5390456592552703,
          -0.7350747893837698,
          null,
          0.5652694329574278,
          0.7971749885057527,
          null,
          -0.43278963049259933,
          -0.5452614289630789,
          null,
          0.8962122199779567,
          0.8964336428759675,
          null,
          0.7739810160378303,
          0.9118596164911837,
          null,
          0.8186825362927879,
          0.9042752716000746,
          null,
          -0.5264832674377186,
          -0.583452756128951,
          null,
          -0.42167617179762074,
          -0.4574816135371373,
          null,
          -0.11460171512574123,
          -0.11980799854086359,
          null,
          0.051724210871508795,
          0.05859685901841607,
          null,
          0.46275471311481436,
          0.5363533328361733,
          null,
          -0.05321106862391068,
          -0.05691251548808956,
          null,
          0.7887410218248889,
          0.8246509122156963,
          null,
          -0.18151727664750694,
          -0.2136935578214858,
          null,
          -0.4179365610682295,
          -0.5267169683722513,
          null,
          -0.10803820596006611,
          -0.13318076572620133,
          null,
          -0.6196565295139792,
          -0.8351189291474653,
          null,
          0.20212156339937715,
          0.2612987815065724,
          null,
          0.10574159193629447,
          0.13082722231686736,
          null,
          -0.32950620414188614,
          -0.36183501094854387,
          null,
          -0.03250772355387575,
          -0.058693753843830083,
          null,
          0.5724158592764073,
          0.6904974595011272,
          null,
          0.6392052139750178,
          0.8806440669598838,
          null,
          0.29339890766985,
          0.2707844072650243,
          null,
          0.4906233414489257,
          0.6715236479959471,
          null,
          0.5904472392864843,
          0.6649382442594287,
          null,
          -0.8839313418850336,
          -0.9358732126376001,
          null,
          -0.5850198422405262,
          -0.6547807048364654,
          null,
          -0.019322341683517184,
          0.0001699880740031957,
          null,
          0.4360503889578213,
          0.4360537849490526,
          null,
          -0.7980370792772176,
          -0.9568540572962148,
          null,
          -0.4989747402614453,
          -0.480198123809742,
          null,
          0.2525065269388949,
          0.3096024563624537,
          null,
          0.05950173275661391,
          0.06728631459873669,
          null,
          0.5252509820769217,
          0.7893327957198876,
          null,
          0.8574844883046114,
          0.9600499076302585,
          null,
          -0.6022352108070752,
          -0.8411854364771925,
          null,
          -0.8083016453517654,
          -0.8115200228646683,
          null,
          -0.9308068242129195,
          -0.9830954921174216,
          null,
          0.4632067447145776,
          0.6113892751197992,
          null,
          0.565046354892374,
          0.8270503738900371,
          null,
          0.3477221605148598,
          0.3765036820562299,
          null,
          -0.43543522419461306,
          -0.4547610541774582,
          null,
          -0.704878592088879,
          -0.7540436937160346,
          null,
          -0.6906692343046078,
          -0.9453945885824295,
          null,
          0.9545184992281246,
          0.9472690141210232,
          null,
          -0.7222839113372678,
          -0.8045626999187288,
          null,
          -0.2749019260718806,
          -0.24815687080284368,
          null,
          0.5914803007867234,
          0.7594342272357444,
          null,
          0.5261243712444306,
          0.5649666783921329,
          null,
          0.4473565040746372,
          0.4855282097283903,
          null,
          -0.7762492632067055,
          -0.9705645243584982,
          null,
          -0.8184075721742309,
          -0.8928908379109497,
          null,
          -0.5867078865055311,
          -0.7421928552644329,
          null,
          -0.35609244984685745,
          -0.42585535149254333,
          null,
          0.6142691515176877,
          0.8893902930234909,
          null
         ],
         "y": [
          -0.8342561888308044,
          -0.9635204891969334,
          null,
          0.6500750673600848,
          0.7453826774032003,
          null,
          -0.40703083061384376,
          -0.39659592334502847,
          null,
          0.08565482071413244,
          0.10605576535463863,
          null,
          0.6831874405732574,
          0.8635120672951899,
          null,
          -0.7980032577877998,
          -0.8346325850636224,
          null,
          -0.828919508521205,
          -0.8856694747020054,
          null,
          0.39039846932611194,
          0.46845008209607636,
          null,
          -0.7896074298745464,
          -0.8912457303023388,
          null,
          0.36412241825990926,
          0.3771625543344069,
          null,
          -0.10845788805838504,
          -0.11997395344755657,
          null,
          0.6988716362163886,
          0.8104801231568772,
          null,
          0.602745844024331,
          0.7253227438664386,
          null,
          0.09981817129007181,
          0.12229565799002023,
          null,
          -0.11427019732931055,
          -0.11749685704912803,
          null,
          0.3508351136482699,
          0.4597583919735409,
          null,
          0.7505567269274593,
          0.9251880715163578,
          null,
          0.5547927706617348,
          0.6652476108260745,
          null,
          0.7510195898519436,
          0.8967304221507766,
          null,
          -0.21561165803586915,
          -0.23316726944226143,
          null,
          0.4407508809442991,
          0.5147411783438729,
          null,
          -0.8527279641157449,
          -0.9656175321223134,
          null,
          0.21697244265812254,
          0.26762537147884524,
          null,
          0.818303346573417,
          0.9533169728390976,
          null,
          -0.8235125714193673,
          -0.9306748265345697,
          null,
          0.3559241888136866,
          0.42986000518415163,
          null,
          -0.47269969062240597,
          -0.5021983882699957,
          null,
          0.6346481437989503,
          0.8654884832646279,
          null,
          0.7183942213380187,
          0.8725233927483591,
          null,
          -0.419648710901424,
          -0.5512790217797313,
          null,
          -0.6164263064609612,
          -0.7586779352943358,
          null,
          -0.3717159216691489,
          -0.3674184690395615,
          null,
          -0.5774018118680828,
          -0.6021642746574283,
          null,
          0.33241103794467874,
          0.36632784512295347,
          null,
          -0.03565481336215304,
          -0.0407803665613559,
          null,
          -0.10585324832535398,
          -0.11749685704912803,
          null,
          0.5581238277777133,
          0.6146219996434598,
          null,
          0.48598374175524595,
          0.6171779205742698,
          null,
          0.671509123229243,
          0.8121902821024984,
          null,
          0.15931168515116353,
          0.22204714338010373,
          null,
          -0.27310313372049905,
          -0.30371838704381554,
          null,
          -0.7510736151817549,
          -0.9350309697409342,
          null,
          -0.9664892511813268,
          -0.9635428045547716,
          null,
          0.6742565889030989,
          0.8285778225540382,
          null,
          -0.4475658837631603,
          -0.5963871610710112,
          null,
          -0.35686179538181434,
          -0.49400092298488624,
          null,
          -0.612729709746712,
          -0.8079760346999345,
          null,
          0.12724149999932066,
          0.10347438748400671,
          null,
          0.20589059047913413,
          0.2483176634416201,
          null,
          0.30138770023717365,
          0.3351848394939195,
          null,
          0.6389366111722729,
          0.7190394837283363,
          null,
          0.7824533068181099,
          0.857731112730541,
          null,
          0.8855764532903379,
          0.9555985064019952,
          null,
          -0.78745250144983,
          -0.9741884271492095,
          null,
          -0.6783172263177003,
          -0.7588341773145887,
          null,
          -0.8804784593967703,
          -0.9656175321223134,
          null,
          -0.23847538507034174,
          -0.2548227277559983,
          null,
          -0.7838675886843418,
          -0.9586392819151591,
          null,
          -0.6772409615449487,
          -0.8772914543415318,
          null,
          -0.7880633504308477,
          -0.9872544422573919,
          null,
          0.42092104688825827,
          0.5494091955613678,
          null,
          0.722916777181851,
          0.9118189973342402,
          null,
          0.8100927334851542,
          0.9702466152855389,
          null,
          -0.7999884796718355,
          -0.9017387102507272,
          null,
          0.641719108541978,
          0.8648490658946884,
          null,
          -0.5917280800450125,
          -0.693780282510061,
          null,
          0.3046248330374837,
          0.4215613536524564,
          null,
          -0.8977449974010736,
          -0.9154224549305366,
          null,
          -0.561008690850215,
          -0.7638843709810734,
          null,
          -0.5594005080918575,
          -0.6314801416366692,
          null,
          -0.02435332639992489,
          -0.024598284444562152,
          null,
          0.5662692604898154,
          0.6655801462287083,
          null,
          0.9222722896683019,
          0.9405270504631056,
          null,
          0.7439514253309664,
          0.7732028976216841,
          null,
          0.0570385174966576,
          0.0658772147053671,
          null,
          0.7953795892509057,
          0.766463441036285,
          null,
          0.6782425158465766,
          0.8491184863267248,
          null,
          0.8719628090160514,
          0.935501857195976,
          null,
          0.4571972293430762,
          0.6676483761557427,
          null,
          0.20540513305407135,
          0.22682094798218272,
          null,
          -0.3182450016263829,
          -0.46054032982478676,
          null,
          -0.6479689190934544,
          -0.6765120711557283,
          null,
          -0.18977417023180868,
          -0.19876262469804803,
          null,
          -0.5808349745174036,
          -0.7423118986284345,
          null,
          0.3591884132444885,
          0.531689937643828,
          null,
          -0.7524630603374721,
          -0.8125099989335618,
          null,
          -0.7849564569717372,
          -0.828596902898897,
          null,
          0.6127950631875198,
          0.6573413482834924,
          null,
          -0.21250383091088318,
          -0.28213443593480697,
          null,
          0.007653258557249033,
          0.03315618359611247,
          null,
          0.3555528299903937,
          0.3977546112699889,
          null,
          0.9555982007223942,
          0.9488528462854886,
          null,
          0.39577594016374035,
          0.5298346794862219,
          null,
          -0.7700310925105966,
          -0.7590496415605221,
          null,
          -0.6195814058628429,
          -0.6478282728103084,
          null,
          0.12129549317944817,
          0.15447886496870297,
          null,
          -0.28758154411013487,
          -0.3163705860086688,
          null,
          -0.5475570249978083,
          -0.7015033240114207,
          null,
          -0.742278414343105,
          -0.9010594732140581,
          null,
          -0.32499224915962655,
          -0.44977784400235754,
          null
         ]
        },
        {
         "hoverinfo": "text",
         "marker": {
          "color": [
           "#43a2ca",
           "#bae4bc",
           "#43a2ca",
           "#bae4bc",
           "#43a2ca",
           "#bae4bc",
           "#43a2ca",
           "#bae4bc",
           "#43a2ca",
           "#bae4bc",
           "#43a2ca",
           "#bae4bc",
           "#43a2ca",
           "#bae4bc",
           "#43a2ca",
           "#bae4bc",
           "#43a2ca",
           "#bae4bc",
           "#43a2ca",
           "#a8ddb5",
           "#43a2ca",
           "#bae4bc",
           "#43a2ca",
           "#a8ddb5",
           "#43a2ca",
           "#bae4bc",
           "#43a2ca",
           "#a8ddb5",
           "#ccebc5",
           "#7bccc4",
           "#43a2ca",
           "#bae4bc",
           "#43a2ca",
           "#a8ddb5",
           "#ccebc5",
           "#7bccc4",
           "#43a2ca",
           "#bae4bc",
           "#43a2ca",
           "#bae4bc",
           "#43a2ca",
           "#bae4bc",
           "#ccebc5",
           "#7bccc4",
           "#43a2ca",
           "#bae4bc",
           "#43a2ca",
           "#bae4bc",
           "#43a2ca",
           "#bae4bc",
           "#43a2ca",
           "#bae4bc",
           "#43a2ca",
           "#bae4bc",
           "#43a2ca",
           "#bae4bc",
           "#43a2ca",
           "#bae4bc",
           "#43a2ca",
           "#a8ddb5",
           "#43a2ca",
           "#bae4bc",
           "#43a2ca",
           "#a8ddb5",
           "#43a2ca",
           "#bae4bc",
           "#43a2ca",
           "#a8ddb5",
           "#43a2ca",
           "#bae4bc",
           "#ccebc5",
           "#43a2ca",
           "#bae4bc",
           "#43a2ca",
           "#bae4bc",
           "#43a2ca",
           "#bae4bc",
           "#43a2ca",
           "#bae4bc",
           "#43a2ca",
           "#bae4bc",
           "#43a2ca",
           "#a8ddb5",
           "#ccebc5",
           "#7bccc4",
           "#43a2ca",
           "#bae4bc",
           "#43a2ca",
           "#bae4bc",
           "#43a2ca",
           "#a8ddb5",
           "#43a2ca",
           "#bae4bc",
           "#43a2ca",
           "#bae4bc",
           "#999999",
           "#feb24c",
           "#43a2ca",
           "#bae4bc",
           "#999999",
           "#feb24c",
           "#43a2ca",
           "#bae4bc",
           "#43a2ca",
           "#bae4bc",
           "#43a2ca",
           "#bae4bc",
           "#43a2ca",
           "#bae4bc",
           "#ccebc5",
           "#43a2ca",
           "#bae4bc",
           "#43a2ca",
           "#a8ddb5",
           "#43a2ca",
           "#bae4bc",
           "#43a2ca",
           "#bae4bc",
           "#43a2ca",
           "#bae4bc",
           "#43a2ca",
           "#bae4bc",
           "#43a2ca",
           "#a8ddb5",
           "#43a2ca",
           "#a8ddb5",
           "#43a2ca",
           "#bae4bc",
           "#43a2ca",
           "#bae4bc",
           "#43a2ca",
           "#bae4bc",
           "#43a2ca",
           "#a8ddb5",
           "#43a2ca",
           "#a8ddb5",
           "#43a2ca",
           "#a8ddb5",
           "#43a2ca",
           "#bae4bc",
           "#43a2ca",
           "#bae4bc",
           "#43a2ca",
           "#bae4bc",
           "#43a2ca",
           "#bae4bc",
           "#43a2ca",
           "#bae4bc",
           "#43a2ca",
           "#bae4bc",
           "#43a2ca",
           "#bae4bc",
           "#43a2ca",
           "#bae4bc",
           "#43a2ca",
           "#bae4bc",
           "#43a2ca",
           "#bae4bc",
           "#43a2ca",
           "#bae4bc",
           "#43a2ca",
           "#bae4bc",
           "#43a2ca",
           "#bae4bc",
           "#43a2ca",
           "#bae4bc",
           "#43a2ca",
           "#bae4bc",
           "#43a2ca",
           "#bae4bc",
           "#43a2ca",
           "#bae4bc",
           "#43a2ca",
           "#bae4bc",
           "#43a2ca",
           "#a8ddb5",
           "#43a2ca",
           "#bae4bc",
           "#43a2ca",
           "#a8ddb5",
           "#43a2ca",
           "#bae4bc",
           "#43a2ca",
           "#a8ddb5",
           "#43a2ca",
           "#bae4bc",
           "#43a2ca",
           "#bae4bc",
           "#43a2ca",
           "#bae4bc",
           "#43a2ca",
           "#a8ddb5",
           "#43a2ca",
           "#bae4bc",
           "#43a2ca",
           "#a8ddb5",
           "#43a2ca",
           "#bae4bc"
          ],
          "colorscale": [
           [
            0,
            "rgb(255,255,217)"
           ],
           [
            0.125,
            "rgb(237,248,177)"
           ],
           [
            0.25,
            "rgb(199,233,180)"
           ],
           [
            0.375,
            "rgb(127,205,187)"
           ],
           [
            0.5,
            "rgb(65,182,196)"
           ],
           [
            0.625,
            "rgb(29,145,192)"
           ],
           [
            0.75,
            "rgb(34,94,168)"
           ],
           [
            0.875,
            "rgb(37,52,148)"
           ],
           [
            1,
            "rgb(8,29,88)"
           ]
          ],
          "line": {
           "width": 2
          },
          "showscale": false,
          "size": 10
         },
         "mode": "markers",
         "text": [
          "16636 (book)",
          "8875 (genre)",
          "1567 (book)",
          "20990 (genre)",
          "3255 (book)",
          "1836 (genre)",
          "2896 (book)",
          "653 (genre)",
          "13615 (book)",
          "3158 (genre)",
          "2131 (book)",
          "12593 (genre)",
          "1147 (book)",
          "12837 (genre)",
          "14351 (book)",
          "296 (genre)",
          "16291 (book)",
          "12607 (genre)",
          "8414 (book)",
          "5696 (date)",
          "14397 (book)",
          "22277 (genre)",
          "19536 (book)",
          "20140 (date)",
          "17264 (book)",
          "3830 (genre)",
          "15228 (book)",
          "23527 (date)",
          "22372 (series)",
          "8367 (author)",
          "9842 (book)",
          "15451 (genre)",
          "4497 (book)",
          "7407 (date)",
          "8816 (series)",
          "18421 (author)",
          "16503 (book)",
          "5999 (genre)",
          "7701 (book)",
          "21834 (genre)",
          "16072 (book)",
          "22305 (genre)",
          "21064 (series)",
          "8471 (author)",
          "4243 (book)",
          "5585 (genre)",
          "5700 (book)",
          "7008 (genre)",
          "22152 (book)",
          "3688 (genre)",
          "1710 (book)",
          "22420 (genre)",
          "21354 (book)",
          "6349 (genre)",
          "1228 (book)",
          "15144 (genre)",
          "11913 (book)",
          "8871 (genre)",
          "9681 (book)",
          "20405 (date)",
          "10492 (book)",
          "17155 (genre)",
          "15537 (book)",
          "12028 (date)",
          "10439 (book)",
          "12662 (genre)",
          "23165 (book)",
          "6300 (date)",
          "9176 (book)",
          "9179 (genre)",
          "14270 (series)",
          "17823 (book)",
          "17732 (genre)",
          "15839 (book)",
          "15714 (genre)",
          "11335 (book)",
          "10026 (genre)",
          "20027 (book)",
          "21964 (genre)",
          "5467 (book)",
          "3194 (genre)",
          "15461 (book)",
          "2385 (date)",
          "4176 (series)",
          "18978 (author)",
          "8806 (book)",
          "13730 (genre)",
          "19607 (book)",
          "3452 (genre)",
          "17039 (book)",
          "8913 (date)",
          "22798 (book)",
          "16262 (genre)",
          "4878 (book)",
          "22923 (genre)",
          "14287 (comic_series)",
          "11284 (publisher)",
          "2966 (book)",
          "7863 (genre)",
          "1469 (comic_series)",
          "21389 (publisher)",
          "9356 (book)",
          "20837 (genre)",
          "2252 (book)",
          "11517 (genre)",
          "20870 (book)",
          "9735 (genre)",
          "8638 (book)",
          "17812 (genre)",
          "7264 (series)",
          "15267 (book)",
          "7186 (genre)",
          "12309 (book)",
          "7823 (date)",
          "7515 (book)",
          "7835 (genre)",
          "16140 (book)",
          "10716 (genre)",
          "15212 (book)",
          "6780 (genre)",
          "22662 (book)",
          "12706 (genre)",
          "16431 (book)",
          "7127 (date)",
          "4214 (book)",
          "12903 (date)",
          "2585 (book)",
          "20586 (genre)",
          "5610 (book)",
          "5821 (genre)",
          "23680 (book)",
          "6314 (genre)",
          "7112 (book)",
          "10351 (date)",
          "13875 (book)",
          "22816 (date)",
          "11950 (book)",
          "6124 (date)",
          "19952 (book)",
          "3349 (genre)",
          "4118 (book)",
          "1590 (genre)",
          "16802 (book)",
          "5842 (genre)",
          "3701 (book)",
          "18375 (genre)",
          "7504 (book)",
          "20243 (genre)",
          "16727 (book)",
          "19715 (genre)",
          "18943 (book)",
          "2991 (genre)",
          "7531 (book)",
          "20667 (genre)",
          "1702 (book)",
          "3997 (genre)",
          "22646 (book)",
          "4454 (genre)",
          "7975 (book)",
          "5710 (genre)",
          "18281 (book)",
          "4920 (genre)",
          "12423 (book)",
          "9742 (genre)",
          "13382 (book)",
          "7748 (genre)",
          "22876 (book)",
          "8856 (genre)",
          "22331 (book)",
          "6334 (genre)",
          "12656 (book)",
          "21259 (genre)",
          "13398 (book)",
          "12735 (genre)",
          "1101 (book)",
          "10136 (date)",
          "19878 (book)",
          "20000 (genre)",
          "15445 (book)",
          "18596 (date)",
          "1201 (book)",
          "20750 (genre)",
          "6743 (book)",
          "13293 (date)",
          "4678 (book)",
          "12122 (genre)",
          "11213 (book)",
          "5683 (genre)",
          "4414 (book)",
          "15263 (genre)",
          "8031 (book)",
          "3779 (date)",
          "16648 (book)",
          "14637 (genre)",
          "5096 (book)",
          "20570 (date)",
          "7789 (book)",
          "12092 (genre)"
         ],
         "type": "scatter",
         "x": [
          0.23670963536335635,
          0.2779795958638776,
          0.5180963442129013,
          0.6018089657349015,
          -0.9210127552797266,
          -0.8940393808859817,
          0.9020255184321704,
          0.971211701397758,
          -0.2314744858911328,
          -0.2938513861255659,
          -0.555290239948786,
          -0.5352118062772777,
          -0.18812516840471946,
          -0.1974700729837108,
          -0.6043605800002079,
          -0.7388466982248264,
          0.163353795753067,
          0.1826203887553606,
          0.7552000899556076,
          0.7301213748982458,
          -0.8397985172742719,
          -0.9527639966543949,
          0.19733940996762922,
          0.22438216783858023,
          0.5711410374874367,
          0.6874018481373617,
          -0.72955791699922,
          -0.9039072827591688,
          0.9349229467760243,
          0.9656375995343338,
          -0.6459333657564639,
          -0.8617370335716663,
          0.13556055530984265,
          0.18127997761602774,
          -0.5767003897575835,
          -0.6904574541125693,
          0.38720676586198294,
          0.4625325626477574,
          0.8714886665142925,
          0.928564950786448,
          0.6066518117650537,
          0.6928691710732046,
          -0.05111906316228348,
          -0.05691251548808956,
          -0.7617606586575656,
          -0.9276581516448613,
          -0.17012330077453514,
          -0.1920851917296103,
          -0.26398951524885084,
          -0.2937242775518616,
          0.6715485467251427,
          0.7998918107736992,
          -0.7348112969572214,
          -0.778621003604325,
          -0.27677647873450406,
          -0.37026845004158154,
          0.34013582512391877,
          0.40176723076033793,
          0.6345435466192633,
          0.8484619242498461,
          -0.5534554471964029,
          -0.6879668752131171,
          0.8344823604855076,
          0.8636079146409098,
          0.7204160190269615,
          0.7371763764134913,
          -0.8208226640559791,
          -0.9092815717284239,
          -0.7396556069248166,
          -1,
          0.8819043215854104,
          -0.5318855599619107,
          -0.5915649290759345,
          0.531637187594073,
          0.6704016782309642,
          -0.5214741307990337,
          -0.6291439656162038,
          -0.635854799969227,
          -0.8938031819974603,
          0.7576278202078321,
          0.8582335400329208,
          0.007509104259649308,
          0.018201746874568867,
          0.1368323599894396,
          0.10992303987196257,
          0.48673250095115034,
          0.581905100358874,
          -0.5390456592552703,
          -0.7350747893837698,
          0.5652694329574278,
          0.7971749885057527,
          -0.43278963049259933,
          -0.5452614289630789,
          0.8962122199779567,
          0.8964336428759675,
          0.7739810160378303,
          0.9118596164911837,
          0.8186825362927879,
          0.9042752716000746,
          -0.5264832674377186,
          -0.583452756128951,
          -0.42167617179762074,
          -0.4574816135371373,
          -0.11460171512574123,
          -0.11980799854086359,
          0.051724210871508795,
          0.05859685901841607,
          0.46275471311481436,
          0.5363533328361733,
          -0.05321106862391068,
          0.7887410218248889,
          0.8246509122156963,
          -0.18151727664750694,
          -0.2136935578214858,
          -0.4179365610682295,
          -0.5267169683722513,
          -0.10803820596006611,
          -0.13318076572620133,
          -0.6196565295139792,
          -0.8351189291474653,
          0.20212156339937715,
          0.2612987815065724,
          0.10574159193629447,
          0.13082722231686736,
          -0.32950620414188614,
          -0.36183501094854387,
          -0.03250772355387575,
          -0.058693753843830083,
          0.5724158592764073,
          0.6904974595011272,
          0.6392052139750178,
          0.8806440669598838,
          0.29339890766985,
          0.2707844072650243,
          0.4906233414489257,
          0.6715236479959471,
          0.5904472392864843,
          0.6649382442594287,
          -0.8839313418850336,
          -0.9358732126376001,
          -0.5850198422405262,
          -0.6547807048364654,
          -0.019322341683517184,
          0.0001699880740031957,
          0.4360503889578213,
          0.4360537849490526,
          -0.7980370792772176,
          -0.9568540572962148,
          -0.4989747402614453,
          -0.480198123809742,
          0.2525065269388949,
          0.3096024563624537,
          0.05950173275661391,
          0.06728631459873669,
          0.5252509820769217,
          0.7893327957198876,
          0.8574844883046114,
          0.9600499076302585,
          -0.6022352108070752,
          -0.8411854364771925,
          -0.8083016453517654,
          -0.8115200228646683,
          -0.9308068242129195,
          -0.9830954921174216,
          0.4632067447145776,
          0.6113892751197992,
          0.565046354892374,
          0.8270503738900371,
          0.3477221605148598,
          0.3765036820562299,
          -0.43543522419461306,
          -0.4547610541774582,
          -0.704878592088879,
          -0.7540436937160346,
          -0.6906692343046078,
          -0.9453945885824295,
          0.9545184992281246,
          0.9472690141210232,
          -0.7222839113372678,
          -0.8045626999187288,
          -0.2749019260718806,
          -0.24815687080284368,
          0.5914803007867234,
          0.7594342272357444,
          0.5261243712444306,
          0.5649666783921329,
          0.4473565040746372,
          0.4855282097283903,
          -0.7762492632067055,
          -0.9705645243584982,
          -0.8184075721742309,
          -0.8928908379109497,
          -0.5867078865055311,
          -0.7421928552644329,
          -0.35609244984685745,
          -0.42585535149254333,
          0.6142691515176877,
          0.8893902930234909
         ],
         "y": [
          -0.8342561888308044,
          -0.9635204891969334,
          0.6500750673600848,
          0.7453826774032003,
          -0.40703083061384376,
          -0.39659592334502847,
          0.08565482071413244,
          0.10605576535463863,
          0.6831874405732574,
          0.8635120672951899,
          -0.7980032577877998,
          -0.8346325850636224,
          -0.828919508521205,
          -0.8856694747020054,
          0.39039846932611194,
          0.46845008209607636,
          -0.7896074298745464,
          -0.8912457303023388,
          0.36412241825990926,
          0.3771625543344069,
          -0.10845788805838504,
          -0.11997395344755657,
          0.6988716362163886,
          0.8104801231568772,
          0.602745844024331,
          0.7253227438664386,
          0.09981817129007181,
          0.12229565799002023,
          -0.11427019732931055,
          -0.11749685704912803,
          0.3508351136482699,
          0.4597583919735409,
          0.7505567269274593,
          0.9251880715163578,
          0.5547927706617348,
          0.6652476108260745,
          0.7510195898519436,
          0.8967304221507766,
          -0.21561165803586915,
          -0.23316726944226143,
          0.4407508809442991,
          0.5147411783438729,
          -0.8527279641157449,
          -0.9656175321223134,
          0.21697244265812254,
          0.26762537147884524,
          0.818303346573417,
          0.9533169728390976,
          -0.8235125714193673,
          -0.9306748265345697,
          0.3559241888136866,
          0.42986000518415163,
          -0.47269969062240597,
          -0.5021983882699957,
          0.6346481437989503,
          0.8654884832646279,
          0.7183942213380187,
          0.8725233927483591,
          -0.419648710901424,
          -0.5512790217797313,
          -0.6164263064609612,
          -0.7586779352943358,
          -0.3717159216691489,
          -0.3674184690395615,
          -0.5774018118680828,
          -0.6021642746574283,
          0.33241103794467874,
          0.36632784512295347,
          -0.03565481336215304,
          -0.0407803665613559,
          -0.10585324832535398,
          0.5581238277777133,
          0.6146219996434598,
          0.48598374175524595,
          0.6171779205742698,
          0.671509123229243,
          0.8121902821024984,
          0.15931168515116353,
          0.22204714338010373,
          -0.27310313372049905,
          -0.30371838704381554,
          -0.7510736151817549,
          -0.9350309697409342,
          -0.9664892511813268,
          -0.9635428045547716,
          0.6742565889030989,
          0.8285778225540382,
          -0.4475658837631603,
          -0.5963871610710112,
          -0.35686179538181434,
          -0.49400092298488624,
          -0.612729709746712,
          -0.8079760346999345,
          0.12724149999932066,
          0.10347438748400671,
          0.20589059047913413,
          0.2483176634416201,
          0.30138770023717365,
          0.3351848394939195,
          0.6389366111722729,
          0.7190394837283363,
          0.7824533068181099,
          0.857731112730541,
          0.8855764532903379,
          0.9555985064019952,
          -0.78745250144983,
          -0.9741884271492095,
          -0.6783172263177003,
          -0.7588341773145887,
          -0.8804784593967703,
          -0.23847538507034174,
          -0.2548227277559983,
          -0.7838675886843418,
          -0.9586392819151591,
          -0.6772409615449487,
          -0.8772914543415318,
          -0.7880633504308477,
          -0.9872544422573919,
          0.42092104688825827,
          0.5494091955613678,
          0.722916777181851,
          0.9118189973342402,
          0.8100927334851542,
          0.9702466152855389,
          -0.7999884796718355,
          -0.9017387102507272,
          0.641719108541978,
          0.8648490658946884,
          -0.5917280800450125,
          -0.693780282510061,
          0.3046248330374837,
          0.4215613536524564,
          -0.8977449974010736,
          -0.9154224549305366,
          -0.561008690850215,
          -0.7638843709810734,
          -0.5594005080918575,
          -0.6314801416366692,
          -0.02435332639992489,
          -0.024598284444562152,
          0.5662692604898154,
          0.6655801462287083,
          0.9222722896683019,
          0.9405270504631056,
          0.7439514253309664,
          0.7732028976216841,
          0.0570385174966576,
          0.0658772147053671,
          0.7953795892509057,
          0.766463441036285,
          0.6782425158465766,
          0.8491184863267248,
          0.8719628090160514,
          0.935501857195976,
          0.4571972293430762,
          0.6676483761557427,
          0.20540513305407135,
          0.22682094798218272,
          -0.3182450016263829,
          -0.46054032982478676,
          -0.6479689190934544,
          -0.6765120711557283,
          -0.18977417023180868,
          -0.19876262469804803,
          -0.5808349745174036,
          -0.7423118986284345,
          0.3591884132444885,
          0.531689937643828,
          -0.7524630603374721,
          -0.8125099989335618,
          -0.7849564569717372,
          -0.828596902898897,
          0.6127950631875198,
          0.6573413482834924,
          -0.21250383091088318,
          -0.28213443593480697,
          0.007653258557249033,
          0.03315618359611247,
          0.3555528299903937,
          0.3977546112699889,
          0.9555982007223942,
          0.9488528462854886,
          0.39577594016374035,
          0.5298346794862219,
          -0.7700310925105966,
          -0.7590496415605221,
          -0.6195814058628429,
          -0.6478282728103084,
          0.12129549317944817,
          0.15447886496870297,
          -0.28758154411013487,
          -0.3163705860086688,
          -0.5475570249978083,
          -0.7015033240114207,
          -0.742278414343105,
          -0.9010594732140581,
          -0.32499224915962655,
          -0.44977784400235754
         ]
        }
       ],
       "layout": {
        "hovermode": "closest",
        "margin": {
         "b": 20,
         "l": 5,
         "r": 5,
         "t": 40
        },
        "showlegend": false,
        "template": {
         "data": {
          "bar": [
           {
            "error_x": {
             "color": "#2a3f5f"
            },
            "error_y": {
             "color": "#2a3f5f"
            },
            "marker": {
             "line": {
              "color": "#E5ECF6",
              "width": 0.5
             },
             "pattern": {
              "fillmode": "overlay",
              "size": 10,
              "solidity": 0.2
             }
            },
            "type": "bar"
           }
          ],
          "barpolar": [
           {
            "marker": {
             "line": {
              "color": "#E5ECF6",
              "width": 0.5
             },
             "pattern": {
              "fillmode": "overlay",
              "size": 10,
              "solidity": 0.2
             }
            },
            "type": "barpolar"
           }
          ],
          "carpet": [
           {
            "aaxis": {
             "endlinecolor": "#2a3f5f",
             "gridcolor": "white",
             "linecolor": "white",
             "minorgridcolor": "white",
             "startlinecolor": "#2a3f5f"
            },
            "baxis": {
             "endlinecolor": "#2a3f5f",
             "gridcolor": "white",
             "linecolor": "white",
             "minorgridcolor": "white",
             "startlinecolor": "#2a3f5f"
            },
            "type": "carpet"
           }
          ],
          "choropleth": [
           {
            "colorbar": {
             "outlinewidth": 0,
             "ticks": ""
            },
            "type": "choropleth"
           }
          ],
          "contour": [
           {
            "colorbar": {
             "outlinewidth": 0,
             "ticks": ""
            },
            "colorscale": [
             [
              0,
              "#0d0887"
             ],
             [
              0.1111111111111111,
              "#46039f"
             ],
             [
              0.2222222222222222,
              "#7201a8"
             ],
             [
              0.3333333333333333,
              "#9c179e"
             ],
             [
              0.4444444444444444,
              "#bd3786"
             ],
             [
              0.5555555555555556,
              "#d8576b"
             ],
             [
              0.6666666666666666,
              "#ed7953"
             ],
             [
              0.7777777777777778,
              "#fb9f3a"
             ],
             [
              0.8888888888888888,
              "#fdca26"
             ],
             [
              1,
              "#f0f921"
             ]
            ],
            "type": "contour"
           }
          ],
          "contourcarpet": [
           {
            "colorbar": {
             "outlinewidth": 0,
             "ticks": ""
            },
            "type": "contourcarpet"
           }
          ],
          "heatmap": [
           {
            "colorbar": {
             "outlinewidth": 0,
             "ticks": ""
            },
            "colorscale": [
             [
              0,
              "#0d0887"
             ],
             [
              0.1111111111111111,
              "#46039f"
             ],
             [
              0.2222222222222222,
              "#7201a8"
             ],
             [
              0.3333333333333333,
              "#9c179e"
             ],
             [
              0.4444444444444444,
              "#bd3786"
             ],
             [
              0.5555555555555556,
              "#d8576b"
             ],
             [
              0.6666666666666666,
              "#ed7953"
             ],
             [
              0.7777777777777778,
              "#fb9f3a"
             ],
             [
              0.8888888888888888,
              "#fdca26"
             ],
             [
              1,
              "#f0f921"
             ]
            ],
            "type": "heatmap"
           }
          ],
          "heatmapgl": [
           {
            "colorbar": {
             "outlinewidth": 0,
             "ticks": ""
            },
            "colorscale": [
             [
              0,
              "#0d0887"
             ],
             [
              0.1111111111111111,
              "#46039f"
             ],
             [
              0.2222222222222222,
              "#7201a8"
             ],
             [
              0.3333333333333333,
              "#9c179e"
             ],
             [
              0.4444444444444444,
              "#bd3786"
             ],
             [
              0.5555555555555556,
              "#d8576b"
             ],
             [
              0.6666666666666666,
              "#ed7953"
             ],
             [
              0.7777777777777778,
              "#fb9f3a"
             ],
             [
              0.8888888888888888,
              "#fdca26"
             ],
             [
              1,
              "#f0f921"
             ]
            ],
            "type": "heatmapgl"
           }
          ],
          "histogram": [
           {
            "marker": {
             "pattern": {
              "fillmode": "overlay",
              "size": 10,
              "solidity": 0.2
             }
            },
            "type": "histogram"
           }
          ],
          "histogram2d": [
           {
            "colorbar": {
             "outlinewidth": 0,
             "ticks": ""
            },
            "colorscale": [
             [
              0,
              "#0d0887"
             ],
             [
              0.1111111111111111,
              "#46039f"
             ],
             [
              0.2222222222222222,
              "#7201a8"
             ],
             [
              0.3333333333333333,
              "#9c179e"
             ],
             [
              0.4444444444444444,
              "#bd3786"
             ],
             [
              0.5555555555555556,
              "#d8576b"
             ],
             [
              0.6666666666666666,
              "#ed7953"
             ],
             [
              0.7777777777777778,
              "#fb9f3a"
             ],
             [
              0.8888888888888888,
              "#fdca26"
             ],
             [
              1,
              "#f0f921"
             ]
            ],
            "type": "histogram2d"
           }
          ],
          "histogram2dcontour": [
           {
            "colorbar": {
             "outlinewidth": 0,
             "ticks": ""
            },
            "colorscale": [
             [
              0,
              "#0d0887"
             ],
             [
              0.1111111111111111,
              "#46039f"
             ],
             [
              0.2222222222222222,
              "#7201a8"
             ],
             [
              0.3333333333333333,
              "#9c179e"
             ],
             [
              0.4444444444444444,
              "#bd3786"
             ],
             [
              0.5555555555555556,
              "#d8576b"
             ],
             [
              0.6666666666666666,
              "#ed7953"
             ],
             [
              0.7777777777777778,
              "#fb9f3a"
             ],
             [
              0.8888888888888888,
              "#fdca26"
             ],
             [
              1,
              "#f0f921"
             ]
            ],
            "type": "histogram2dcontour"
           }
          ],
          "mesh3d": [
           {
            "colorbar": {
             "outlinewidth": 0,
             "ticks": ""
            },
            "type": "mesh3d"
           }
          ],
          "parcoords": [
           {
            "line": {
             "colorbar": {
              "outlinewidth": 0,
              "ticks": ""
             }
            },
            "type": "parcoords"
           }
          ],
          "pie": [
           {
            "automargin": true,
            "type": "pie"
           }
          ],
          "scatter": [
           {
            "fillpattern": {
             "fillmode": "overlay",
             "size": 10,
             "solidity": 0.2
            },
            "type": "scatter"
           }
          ],
          "scatter3d": [
           {
            "line": {
             "colorbar": {
              "outlinewidth": 0,
              "ticks": ""
             }
            },
            "marker": {
             "colorbar": {
              "outlinewidth": 0,
              "ticks": ""
             }
            },
            "type": "scatter3d"
           }
          ],
          "scattercarpet": [
           {
            "marker": {
             "colorbar": {
              "outlinewidth": 0,
              "ticks": ""
             }
            },
            "type": "scattercarpet"
           }
          ],
          "scattergeo": [
           {
            "marker": {
             "colorbar": {
              "outlinewidth": 0,
              "ticks": ""
             }
            },
            "type": "scattergeo"
           }
          ],
          "scattergl": [
           {
            "marker": {
             "colorbar": {
              "outlinewidth": 0,
              "ticks": ""
             }
            },
            "type": "scattergl"
           }
          ],
          "scattermapbox": [
           {
            "marker": {
             "colorbar": {
              "outlinewidth": 0,
              "ticks": ""
             }
            },
            "type": "scattermapbox"
           }
          ],
          "scatterpolar": [
           {
            "marker": {
             "colorbar": {
              "outlinewidth": 0,
              "ticks": ""
             }
            },
            "type": "scatterpolar"
           }
          ],
          "scatterpolargl": [
           {
            "marker": {
             "colorbar": {
              "outlinewidth": 0,
              "ticks": ""
             }
            },
            "type": "scatterpolargl"
           }
          ],
          "scatterternary": [
           {
            "marker": {
             "colorbar": {
              "outlinewidth": 0,
              "ticks": ""
             }
            },
            "type": "scatterternary"
           }
          ],
          "surface": [
           {
            "colorbar": {
             "outlinewidth": 0,
             "ticks": ""
            },
            "colorscale": [
             [
              0,
              "#0d0887"
             ],
             [
              0.1111111111111111,
              "#46039f"
             ],
             [
              0.2222222222222222,
              "#7201a8"
             ],
             [
              0.3333333333333333,
              "#9c179e"
             ],
             [
              0.4444444444444444,
              "#bd3786"
             ],
             [
              0.5555555555555556,
              "#d8576b"
             ],
             [
              0.6666666666666666,
              "#ed7953"
             ],
             [
              0.7777777777777778,
              "#fb9f3a"
             ],
             [
              0.8888888888888888,
              "#fdca26"
             ],
             [
              1,
              "#f0f921"
             ]
            ],
            "type": "surface"
           }
          ],
          "table": [
           {
            "cells": {
             "fill": {
              "color": "#EBF0F8"
             },
             "line": {
              "color": "white"
             }
            },
            "header": {
             "fill": {
              "color": "#C8D4E3"
             },
             "line": {
              "color": "white"
             }
            },
            "type": "table"
           }
          ]
         },
         "layout": {
          "annotationdefaults": {
           "arrowcolor": "#2a3f5f",
           "arrowhead": 0,
           "arrowwidth": 1
          },
          "autotypenumbers": "strict",
          "coloraxis": {
           "colorbar": {
            "outlinewidth": 0,
            "ticks": ""
           }
          },
          "colorscale": {
           "diverging": [
            [
             0,
             "#8e0152"
            ],
            [
             0.1,
             "#c51b7d"
            ],
            [
             0.2,
             "#de77ae"
            ],
            [
             0.3,
             "#f1b6da"
            ],
            [
             0.4,
             "#fde0ef"
            ],
            [
             0.5,
             "#f7f7f7"
            ],
            [
             0.6,
             "#e6f5d0"
            ],
            [
             0.7,
             "#b8e186"
            ],
            [
             0.8,
             "#7fbc41"
            ],
            [
             0.9,
             "#4d9221"
            ],
            [
             1,
             "#276419"
            ]
           ],
           "sequential": [
            [
             0,
             "#0d0887"
            ],
            [
             0.1111111111111111,
             "#46039f"
            ],
            [
             0.2222222222222222,
             "#7201a8"
            ],
            [
             0.3333333333333333,
             "#9c179e"
            ],
            [
             0.4444444444444444,
             "#bd3786"
            ],
            [
             0.5555555555555556,
             "#d8576b"
            ],
            [
             0.6666666666666666,
             "#ed7953"
            ],
            [
             0.7777777777777778,
             "#fb9f3a"
            ],
            [
             0.8888888888888888,
             "#fdca26"
            ],
            [
             1,
             "#f0f921"
            ]
           ],
           "sequentialminus": [
            [
             0,
             "#0d0887"
            ],
            [
             0.1111111111111111,
             "#46039f"
            ],
            [
             0.2222222222222222,
             "#7201a8"
            ],
            [
             0.3333333333333333,
             "#9c179e"
            ],
            [
             0.4444444444444444,
             "#bd3786"
            ],
            [
             0.5555555555555556,
             "#d8576b"
            ],
            [
             0.6666666666666666,
             "#ed7953"
            ],
            [
             0.7777777777777778,
             "#fb9f3a"
            ],
            [
             0.8888888888888888,
             "#fdca26"
            ],
            [
             1,
             "#f0f921"
            ]
           ]
          },
          "colorway": [
           "#636efa",
           "#EF553B",
           "#00cc96",
           "#ab63fa",
           "#FFA15A",
           "#19d3f3",
           "#FF6692",
           "#B6E880",
           "#FF97FF",
           "#FECB52"
          ],
          "font": {
           "color": "#2a3f5f"
          },
          "geo": {
           "bgcolor": "white",
           "lakecolor": "white",
           "landcolor": "#E5ECF6",
           "showlakes": true,
           "showland": true,
           "subunitcolor": "white"
          },
          "hoverlabel": {
           "align": "left"
          },
          "hovermode": "closest",
          "mapbox": {
           "style": "light"
          },
          "paper_bgcolor": "white",
          "plot_bgcolor": "#E5ECF6",
          "polar": {
           "angularaxis": {
            "gridcolor": "white",
            "linecolor": "white",
            "ticks": ""
           },
           "bgcolor": "#E5ECF6",
           "radialaxis": {
            "gridcolor": "white",
            "linecolor": "white",
            "ticks": ""
           }
          },
          "scene": {
           "xaxis": {
            "backgroundcolor": "#E5ECF6",
            "gridcolor": "white",
            "gridwidth": 2,
            "linecolor": "white",
            "showbackground": true,
            "ticks": "",
            "zerolinecolor": "white"
           },
           "yaxis": {
            "backgroundcolor": "#E5ECF6",
            "gridcolor": "white",
            "gridwidth": 2,
            "linecolor": "white",
            "showbackground": true,
            "ticks": "",
            "zerolinecolor": "white"
           },
           "zaxis": {
            "backgroundcolor": "#E5ECF6",
            "gridcolor": "white",
            "gridwidth": 2,
            "linecolor": "white",
            "showbackground": true,
            "ticks": "",
            "zerolinecolor": "white"
           }
          },
          "shapedefaults": {
           "line": {
            "color": "#2a3f5f"
           }
          },
          "ternary": {
           "aaxis": {
            "gridcolor": "white",
            "linecolor": "white",
            "ticks": ""
           },
           "baxis": {
            "gridcolor": "white",
            "linecolor": "white",
            "ticks": ""
           },
           "bgcolor": "#E5ECF6",
           "caxis": {
            "gridcolor": "white",
            "linecolor": "white",
            "ticks": ""
           }
          },
          "title": {
           "x": 0.05
          },
          "xaxis": {
           "automargin": true,
           "gridcolor": "white",
           "linecolor": "white",
           "ticks": "",
           "title": {
            "standoff": 15
           },
           "zerolinecolor": "white",
           "zerolinewidth": 2
          },
          "yaxis": {
           "automargin": true,
           "gridcolor": "white",
           "linecolor": "white",
           "ticks": "",
           "title": {
            "standoff": 15
           },
           "zerolinecolor": "white",
           "zerolinewidth": 2
          }
         }
        },
        "xaxis": {
         "showgrid": false,
         "showticklabels": false,
         "zeroline": false
        },
        "yaxis": {
         "showgrid": false,
         "showticklabels": false,
         "zeroline": false
        }
       }
      },
      "text/html": [
       "<div>                            <div id=\"90af76d8-df9a-4f7e-a463-02c39c11020e\" class=\"plotly-graph-div\" style=\"height:525px; width:100%;\"></div>            <script type=\"text/javascript\">                require([\"plotly\"], function(Plotly) {                    window.PLOTLYENV=window.PLOTLYENV || {};                                    if (document.getElementById(\"90af76d8-df9a-4f7e-a463-02c39c11020e\")) {                    Plotly.newPlot(                        \"90af76d8-df9a-4f7e-a463-02c39c11020e\",                        [{\"hoverinfo\":\"text\",\"line\":{\"color\":\"#888\",\"width\":1},\"mode\":\"lines\",\"text\":[\"book.book.genre\",\"book.book.genre\",\"book.book.genre\",\"book.book.genre\",\"book.book.genre\",\"book.book.genre\",\"book.book.genre\",\"book.book.genre\",\"book.book.genre\",\"book.written_work.date_of_first_publication\",\"book.book.genre\",\"book.written_work.date_of_first_publication\",\"book.book.genre\",\"book.written_work.date_of_first_publication\",\"book.literary_series.author\",\"book.book.genre\",\"book.written_work.date_of_first_publication\",\"book.literary_series.author\",\"book.book.genre\",\"book.book.genre\",\"book.book.genre\",\"book.literary_series.author\",\"book.book.genre\",\"book.book.genre\",\"book.book.genre\",\"book.book.genre\",\"book.book.genre\",\"book.book.genre\",\"book.book.genre\",\"book.written_work.date_of_first_publication\",\"book.book.genre\",\"book.written_work.date_of_first_publication\",\"book.book.genre\",\"book.written_work.date_of_first_publication\",\"book.book.genre\",\"book.literary_series.author\",\"book.book.genre\",\"book.book.genre\",\"book.book.genre\",\"book.book.genre\",\"book.book.genre\",\"book.written_work.date_of_first_publication\",\"book.literary_series.author\",\"book.book.genre\",\"book.book.genre\",\"book.written_work.date_of_first_publication\",\"book.book.genre\",\"book.book.genre\",\"comic_books.series.publisher\",\"book.book.genre\",\"comic_books.series.publisher\",\"book.book.genre\",\"book.book.genre\",\"book.book.genre\",\"book.book.genre\",\"book.literary_series.author\",\"book.book.genre\",\"book.written_work.date_of_first_publication\",\"book.book.genre\",\"book.book.genre\",\"book.book.genre\",\"book.book.genre\",\"book.written_work.date_of_first_publication\",\"book.written_work.date_of_first_publication\",\"book.book.genre\",\"book.book.genre\",\"book.book.genre\",\"book.written_work.date_of_first_publication\",\"book.written_work.date_of_first_publication\",\"book.written_work.date_of_first_publication\",\"book.book.genre\",\"book.book.genre\",\"book.book.genre\",\"book.book.genre\",\"book.book.genre\",\"book.book.genre\",\"book.book.genre\",\"book.book.genre\",\"book.book.genre\",\"book.book.genre\",\"book.book.genre\",\"book.book.genre\",\"book.book.genre\",\"book.book.genre\",\"book.book.genre\",\"book.book.genre\",\"book.book.genre\",\"book.book.genre\",\"book.written_work.date_of_first_publication\",\"book.book.genre\",\"book.written_work.date_of_first_publication\",\"book.book.genre\",\"book.written_work.date_of_first_publication\",\"book.book.genre\",\"book.book.genre\",\"book.book.genre\",\"book.written_work.date_of_first_publication\",\"book.book.genre\",\"book.written_work.date_of_first_publication\",\"book.book.genre\"],\"x\":[0.23670963536335635,0.2779795958638776,null,0.5180963442129013,0.6018089657349015,null,-0.9210127552797266,-0.8940393808859817,null,0.9020255184321704,0.971211701397758,null,-0.2314744858911328,-0.2938513861255659,null,-0.555290239948786,-0.5352118062772777,null,-0.18812516840471946,-0.1974700729837108,null,-0.6043605800002079,-0.7388466982248264,null,0.163353795753067,0.1826203887553606,null,0.7552000899556076,0.7301213748982458,null,-0.8397985172742719,-0.9527639966543949,null,0.19733940996762922,0.22438216783858023,null,0.5711410374874367,0.6874018481373617,null,-0.72955791699922,-0.9039072827591688,null,0.9349229467760243,0.9656375995343338,null,-0.6459333657564639,-0.8617370335716663,null,0.13556055530984265,0.18127997761602774,null,-0.5767003897575835,-0.6904574541125693,null,0.38720676586198294,0.4625325626477574,null,0.8714886665142925,0.928564950786448,null,0.6066518117650537,0.6928691710732046,null,-0.05111906316228348,-0.05691251548808956,null,-0.7617606586575656,-0.9276581516448613,null,-0.17012330077453514,-0.1920851917296103,null,-0.26398951524885084,-0.2937242775518616,null,0.6715485467251427,0.7998918107736992,null,-0.7348112969572214,-0.778621003604325,null,-0.27677647873450406,-0.37026845004158154,null,0.34013582512391877,0.40176723076033793,null,0.6345435466192633,0.8484619242498461,null,-0.5534554471964029,-0.6879668752131171,null,0.8344823604855076,0.8636079146409098,null,0.7204160190269615,0.7371763764134913,null,-0.8208226640559791,-0.9092815717284239,null,-0.7396556069248166,-1.0,null,0.8819043215854104,0.9656375995343338,null,-0.5318855599619107,-0.5915649290759345,null,0.531637187594073,0.6704016782309642,null,-0.5214741307990337,-0.6291439656162038,null,-0.635854799969227,-0.8938031819974603,null,0.7576278202078321,0.8582335400329208,null,0.007509104259649308,0.018201746874568867,null,0.1368323599894396,0.10992303987196257,null,0.48673250095115034,0.581905100358874,null,-0.5390456592552703,-0.7350747893837698,null,0.5652694329574278,0.7971749885057527,null,-0.43278963049259933,-0.5452614289630789,null,0.8962122199779567,0.8964336428759675,null,0.7739810160378303,0.9118596164911837,null,0.8186825362927879,0.9042752716000746,null,-0.5264832674377186,-0.583452756128951,null,-0.42167617179762074,-0.4574816135371373,null,-0.11460171512574123,-0.11980799854086359,null,0.051724210871508795,0.05859685901841607,null,0.46275471311481436,0.5363533328361733,null,-0.05321106862391068,-0.05691251548808956,null,0.7887410218248889,0.8246509122156963,null,-0.18151727664750694,-0.2136935578214858,null,-0.4179365610682295,-0.5267169683722513,null,-0.10803820596006611,-0.13318076572620133,null,-0.6196565295139792,-0.8351189291474653,null,0.20212156339937715,0.2612987815065724,null,0.10574159193629447,0.13082722231686736,null,-0.32950620414188614,-0.36183501094854387,null,-0.03250772355387575,-0.058693753843830083,null,0.5724158592764073,0.6904974595011272,null,0.6392052139750178,0.8806440669598838,null,0.29339890766985,0.2707844072650243,null,0.4906233414489257,0.6715236479959471,null,0.5904472392864843,0.6649382442594287,null,-0.8839313418850336,-0.9358732126376001,null,-0.5850198422405262,-0.6547807048364654,null,-0.019322341683517184,0.0001699880740031957,null,0.4360503889578213,0.4360537849490526,null,-0.7980370792772176,-0.9568540572962148,null,-0.4989747402614453,-0.480198123809742,null,0.2525065269388949,0.3096024563624537,null,0.05950173275661391,0.06728631459873669,null,0.5252509820769217,0.7893327957198876,null,0.8574844883046114,0.9600499076302585,null,-0.6022352108070752,-0.8411854364771925,null,-0.8083016453517654,-0.8115200228646683,null,-0.9308068242129195,-0.9830954921174216,null,0.4632067447145776,0.6113892751197992,null,0.565046354892374,0.8270503738900371,null,0.3477221605148598,0.3765036820562299,null,-0.43543522419461306,-0.4547610541774582,null,-0.704878592088879,-0.7540436937160346,null,-0.6906692343046078,-0.9453945885824295,null,0.9545184992281246,0.9472690141210232,null,-0.7222839113372678,-0.8045626999187288,null,-0.2749019260718806,-0.24815687080284368,null,0.5914803007867234,0.7594342272357444,null,0.5261243712444306,0.5649666783921329,null,0.4473565040746372,0.4855282097283903,null,-0.7762492632067055,-0.9705645243584982,null,-0.8184075721742309,-0.8928908379109497,null,-0.5867078865055311,-0.7421928552644329,null,-0.35609244984685745,-0.42585535149254333,null,0.6142691515176877,0.8893902930234909,null],\"y\":[-0.8342561888308044,-0.9635204891969334,null,0.6500750673600848,0.7453826774032003,null,-0.40703083061384376,-0.39659592334502847,null,0.08565482071413244,0.10605576535463863,null,0.6831874405732574,0.8635120672951899,null,-0.7980032577877998,-0.8346325850636224,null,-0.828919508521205,-0.8856694747020054,null,0.39039846932611194,0.46845008209607636,null,-0.7896074298745464,-0.8912457303023388,null,0.36412241825990926,0.3771625543344069,null,-0.10845788805838504,-0.11997395344755657,null,0.6988716362163886,0.8104801231568772,null,0.602745844024331,0.7253227438664386,null,0.09981817129007181,0.12229565799002023,null,-0.11427019732931055,-0.11749685704912803,null,0.3508351136482699,0.4597583919735409,null,0.7505567269274593,0.9251880715163578,null,0.5547927706617348,0.6652476108260745,null,0.7510195898519436,0.8967304221507766,null,-0.21561165803586915,-0.23316726944226143,null,0.4407508809442991,0.5147411783438729,null,-0.8527279641157449,-0.9656175321223134,null,0.21697244265812254,0.26762537147884524,null,0.818303346573417,0.9533169728390976,null,-0.8235125714193673,-0.9306748265345697,null,0.3559241888136866,0.42986000518415163,null,-0.47269969062240597,-0.5021983882699957,null,0.6346481437989503,0.8654884832646279,null,0.7183942213380187,0.8725233927483591,null,-0.419648710901424,-0.5512790217797313,null,-0.6164263064609612,-0.7586779352943358,null,-0.3717159216691489,-0.3674184690395615,null,-0.5774018118680828,-0.6021642746574283,null,0.33241103794467874,0.36632784512295347,null,-0.03565481336215304,-0.0407803665613559,null,-0.10585324832535398,-0.11749685704912803,null,0.5581238277777133,0.6146219996434598,null,0.48598374175524595,0.6171779205742698,null,0.671509123229243,0.8121902821024984,null,0.15931168515116353,0.22204714338010373,null,-0.27310313372049905,-0.30371838704381554,null,-0.7510736151817549,-0.9350309697409342,null,-0.9664892511813268,-0.9635428045547716,null,0.6742565889030989,0.8285778225540382,null,-0.4475658837631603,-0.5963871610710112,null,-0.35686179538181434,-0.49400092298488624,null,-0.612729709746712,-0.8079760346999345,null,0.12724149999932066,0.10347438748400671,null,0.20589059047913413,0.2483176634416201,null,0.30138770023717365,0.3351848394939195,null,0.6389366111722729,0.7190394837283363,null,0.7824533068181099,0.857731112730541,null,0.8855764532903379,0.9555985064019952,null,-0.78745250144983,-0.9741884271492095,null,-0.6783172263177003,-0.7588341773145887,null,-0.8804784593967703,-0.9656175321223134,null,-0.23847538507034174,-0.2548227277559983,null,-0.7838675886843418,-0.9586392819151591,null,-0.6772409615449487,-0.8772914543415318,null,-0.7880633504308477,-0.9872544422573919,null,0.42092104688825827,0.5494091955613678,null,0.722916777181851,0.9118189973342402,null,0.8100927334851542,0.9702466152855389,null,-0.7999884796718355,-0.9017387102507272,null,0.641719108541978,0.8648490658946884,null,-0.5917280800450125,-0.693780282510061,null,0.3046248330374837,0.4215613536524564,null,-0.8977449974010736,-0.9154224549305366,null,-0.561008690850215,-0.7638843709810734,null,-0.5594005080918575,-0.6314801416366692,null,-0.02435332639992489,-0.024598284444562152,null,0.5662692604898154,0.6655801462287083,null,0.9222722896683019,0.9405270504631056,null,0.7439514253309664,0.7732028976216841,null,0.0570385174966576,0.0658772147053671,null,0.7953795892509057,0.766463441036285,null,0.6782425158465766,0.8491184863267248,null,0.8719628090160514,0.935501857195976,null,0.4571972293430762,0.6676483761557427,null,0.20540513305407135,0.22682094798218272,null,-0.3182450016263829,-0.46054032982478676,null,-0.6479689190934544,-0.6765120711557283,null,-0.18977417023180868,-0.19876262469804803,null,-0.5808349745174036,-0.7423118986284345,null,0.3591884132444885,0.531689937643828,null,-0.7524630603374721,-0.8125099989335618,null,-0.7849564569717372,-0.828596902898897,null,0.6127950631875198,0.6573413482834924,null,-0.21250383091088318,-0.28213443593480697,null,0.007653258557249033,0.03315618359611247,null,0.3555528299903937,0.3977546112699889,null,0.9555982007223942,0.9488528462854886,null,0.39577594016374035,0.5298346794862219,null,-0.7700310925105966,-0.7590496415605221,null,-0.6195814058628429,-0.6478282728103084,null,0.12129549317944817,0.15447886496870297,null,-0.28758154411013487,-0.3163705860086688,null,-0.5475570249978083,-0.7015033240114207,null,-0.742278414343105,-0.9010594732140581,null,-0.32499224915962655,-0.44977784400235754,null],\"type\":\"scatter\"},{\"hoverinfo\":\"text\",\"marker\":{\"color\":[\"#43a2ca\",\"#bae4bc\",\"#43a2ca\",\"#bae4bc\",\"#43a2ca\",\"#bae4bc\",\"#43a2ca\",\"#bae4bc\",\"#43a2ca\",\"#bae4bc\",\"#43a2ca\",\"#bae4bc\",\"#43a2ca\",\"#bae4bc\",\"#43a2ca\",\"#bae4bc\",\"#43a2ca\",\"#bae4bc\",\"#43a2ca\",\"#a8ddb5\",\"#43a2ca\",\"#bae4bc\",\"#43a2ca\",\"#a8ddb5\",\"#43a2ca\",\"#bae4bc\",\"#43a2ca\",\"#a8ddb5\",\"#ccebc5\",\"#7bccc4\",\"#43a2ca\",\"#bae4bc\",\"#43a2ca\",\"#a8ddb5\",\"#ccebc5\",\"#7bccc4\",\"#43a2ca\",\"#bae4bc\",\"#43a2ca\",\"#bae4bc\",\"#43a2ca\",\"#bae4bc\",\"#ccebc5\",\"#7bccc4\",\"#43a2ca\",\"#bae4bc\",\"#43a2ca\",\"#bae4bc\",\"#43a2ca\",\"#bae4bc\",\"#43a2ca\",\"#bae4bc\",\"#43a2ca\",\"#bae4bc\",\"#43a2ca\",\"#bae4bc\",\"#43a2ca\",\"#bae4bc\",\"#43a2ca\",\"#a8ddb5\",\"#43a2ca\",\"#bae4bc\",\"#43a2ca\",\"#a8ddb5\",\"#43a2ca\",\"#bae4bc\",\"#43a2ca\",\"#a8ddb5\",\"#43a2ca\",\"#bae4bc\",\"#ccebc5\",\"#43a2ca\",\"#bae4bc\",\"#43a2ca\",\"#bae4bc\",\"#43a2ca\",\"#bae4bc\",\"#43a2ca\",\"#bae4bc\",\"#43a2ca\",\"#bae4bc\",\"#43a2ca\",\"#a8ddb5\",\"#ccebc5\",\"#7bccc4\",\"#43a2ca\",\"#bae4bc\",\"#43a2ca\",\"#bae4bc\",\"#43a2ca\",\"#a8ddb5\",\"#43a2ca\",\"#bae4bc\",\"#43a2ca\",\"#bae4bc\",\"#999999\",\"#feb24c\",\"#43a2ca\",\"#bae4bc\",\"#999999\",\"#feb24c\",\"#43a2ca\",\"#bae4bc\",\"#43a2ca\",\"#bae4bc\",\"#43a2ca\",\"#bae4bc\",\"#43a2ca\",\"#bae4bc\",\"#ccebc5\",\"#43a2ca\",\"#bae4bc\",\"#43a2ca\",\"#a8ddb5\",\"#43a2ca\",\"#bae4bc\",\"#43a2ca\",\"#bae4bc\",\"#43a2ca\",\"#bae4bc\",\"#43a2ca\",\"#bae4bc\",\"#43a2ca\",\"#a8ddb5\",\"#43a2ca\",\"#a8ddb5\",\"#43a2ca\",\"#bae4bc\",\"#43a2ca\",\"#bae4bc\",\"#43a2ca\",\"#bae4bc\",\"#43a2ca\",\"#a8ddb5\",\"#43a2ca\",\"#a8ddb5\",\"#43a2ca\",\"#a8ddb5\",\"#43a2ca\",\"#bae4bc\",\"#43a2ca\",\"#bae4bc\",\"#43a2ca\",\"#bae4bc\",\"#43a2ca\",\"#bae4bc\",\"#43a2ca\",\"#bae4bc\",\"#43a2ca\",\"#bae4bc\",\"#43a2ca\",\"#bae4bc\",\"#43a2ca\",\"#bae4bc\",\"#43a2ca\",\"#bae4bc\",\"#43a2ca\",\"#bae4bc\",\"#43a2ca\",\"#bae4bc\",\"#43a2ca\",\"#bae4bc\",\"#43a2ca\",\"#bae4bc\",\"#43a2ca\",\"#bae4bc\",\"#43a2ca\",\"#bae4bc\",\"#43a2ca\",\"#bae4bc\",\"#43a2ca\",\"#bae4bc\",\"#43a2ca\",\"#bae4bc\",\"#43a2ca\",\"#a8ddb5\",\"#43a2ca\",\"#bae4bc\",\"#43a2ca\",\"#a8ddb5\",\"#43a2ca\",\"#bae4bc\",\"#43a2ca\",\"#a8ddb5\",\"#43a2ca\",\"#bae4bc\",\"#43a2ca\",\"#bae4bc\",\"#43a2ca\",\"#bae4bc\",\"#43a2ca\",\"#a8ddb5\",\"#43a2ca\",\"#bae4bc\",\"#43a2ca\",\"#a8ddb5\",\"#43a2ca\",\"#bae4bc\"],\"colorscale\":[[0.0,\"rgb(255,255,217)\"],[0.125,\"rgb(237,248,177)\"],[0.25,\"rgb(199,233,180)\"],[0.375,\"rgb(127,205,187)\"],[0.5,\"rgb(65,182,196)\"],[0.625,\"rgb(29,145,192)\"],[0.75,\"rgb(34,94,168)\"],[0.875,\"rgb(37,52,148)\"],[1.0,\"rgb(8,29,88)\"]],\"line\":{\"width\":2},\"showscale\":false,\"size\":10},\"mode\":\"markers\",\"text\":[\"16636 (book)\",\"8875 (genre)\",\"1567 (book)\",\"20990 (genre)\",\"3255 (book)\",\"1836 (genre)\",\"2896 (book)\",\"653 (genre)\",\"13615 (book)\",\"3158 (genre)\",\"2131 (book)\",\"12593 (genre)\",\"1147 (book)\",\"12837 (genre)\",\"14351 (book)\",\"296 (genre)\",\"16291 (book)\",\"12607 (genre)\",\"8414 (book)\",\"5696 (date)\",\"14397 (book)\",\"22277 (genre)\",\"19536 (book)\",\"20140 (date)\",\"17264 (book)\",\"3830 (genre)\",\"15228 (book)\",\"23527 (date)\",\"22372 (series)\",\"8367 (author)\",\"9842 (book)\",\"15451 (genre)\",\"4497 (book)\",\"7407 (date)\",\"8816 (series)\",\"18421 (author)\",\"16503 (book)\",\"5999 (genre)\",\"7701 (book)\",\"21834 (genre)\",\"16072 (book)\",\"22305 (genre)\",\"21064 (series)\",\"8471 (author)\",\"4243 (book)\",\"5585 (genre)\",\"5700 (book)\",\"7008 (genre)\",\"22152 (book)\",\"3688 (genre)\",\"1710 (book)\",\"22420 (genre)\",\"21354 (book)\",\"6349 (genre)\",\"1228 (book)\",\"15144 (genre)\",\"11913 (book)\",\"8871 (genre)\",\"9681 (book)\",\"20405 (date)\",\"10492 (book)\",\"17155 (genre)\",\"15537 (book)\",\"12028 (date)\",\"10439 (book)\",\"12662 (genre)\",\"23165 (book)\",\"6300 (date)\",\"9176 (book)\",\"9179 (genre)\",\"14270 (series)\",\"17823 (book)\",\"17732 (genre)\",\"15839 (book)\",\"15714 (genre)\",\"11335 (book)\",\"10026 (genre)\",\"20027 (book)\",\"21964 (genre)\",\"5467 (book)\",\"3194 (genre)\",\"15461 (book)\",\"2385 (date)\",\"4176 (series)\",\"18978 (author)\",\"8806 (book)\",\"13730 (genre)\",\"19607 (book)\",\"3452 (genre)\",\"17039 (book)\",\"8913 (date)\",\"22798 (book)\",\"16262 (genre)\",\"4878 (book)\",\"22923 (genre)\",\"14287 (comic_series)\",\"11284 (publisher)\",\"2966 (book)\",\"7863 (genre)\",\"1469 (comic_series)\",\"21389 (publisher)\",\"9356 (book)\",\"20837 (genre)\",\"2252 (book)\",\"11517 (genre)\",\"20870 (book)\",\"9735 (genre)\",\"8638 (book)\",\"17812 (genre)\",\"7264 (series)\",\"15267 (book)\",\"7186 (genre)\",\"12309 (book)\",\"7823 (date)\",\"7515 (book)\",\"7835 (genre)\",\"16140 (book)\",\"10716 (genre)\",\"15212 (book)\",\"6780 (genre)\",\"22662 (book)\",\"12706 (genre)\",\"16431 (book)\",\"7127 (date)\",\"4214 (book)\",\"12903 (date)\",\"2585 (book)\",\"20586 (genre)\",\"5610 (book)\",\"5821 (genre)\",\"23680 (book)\",\"6314 (genre)\",\"7112 (book)\",\"10351 (date)\",\"13875 (book)\",\"22816 (date)\",\"11950 (book)\",\"6124 (date)\",\"19952 (book)\",\"3349 (genre)\",\"4118 (book)\",\"1590 (genre)\",\"16802 (book)\",\"5842 (genre)\",\"3701 (book)\",\"18375 (genre)\",\"7504 (book)\",\"20243 (genre)\",\"16727 (book)\",\"19715 (genre)\",\"18943 (book)\",\"2991 (genre)\",\"7531 (book)\",\"20667 (genre)\",\"1702 (book)\",\"3997 (genre)\",\"22646 (book)\",\"4454 (genre)\",\"7975 (book)\",\"5710 (genre)\",\"18281 (book)\",\"4920 (genre)\",\"12423 (book)\",\"9742 (genre)\",\"13382 (book)\",\"7748 (genre)\",\"22876 (book)\",\"8856 (genre)\",\"22331 (book)\",\"6334 (genre)\",\"12656 (book)\",\"21259 (genre)\",\"13398 (book)\",\"12735 (genre)\",\"1101 (book)\",\"10136 (date)\",\"19878 (book)\",\"20000 (genre)\",\"15445 (book)\",\"18596 (date)\",\"1201 (book)\",\"20750 (genre)\",\"6743 (book)\",\"13293 (date)\",\"4678 (book)\",\"12122 (genre)\",\"11213 (book)\",\"5683 (genre)\",\"4414 (book)\",\"15263 (genre)\",\"8031 (book)\",\"3779 (date)\",\"16648 (book)\",\"14637 (genre)\",\"5096 (book)\",\"20570 (date)\",\"7789 (book)\",\"12092 (genre)\"],\"x\":[0.23670963536335635,0.2779795958638776,0.5180963442129013,0.6018089657349015,-0.9210127552797266,-0.8940393808859817,0.9020255184321704,0.971211701397758,-0.2314744858911328,-0.2938513861255659,-0.555290239948786,-0.5352118062772777,-0.18812516840471946,-0.1974700729837108,-0.6043605800002079,-0.7388466982248264,0.163353795753067,0.1826203887553606,0.7552000899556076,0.7301213748982458,-0.8397985172742719,-0.9527639966543949,0.19733940996762922,0.22438216783858023,0.5711410374874367,0.6874018481373617,-0.72955791699922,-0.9039072827591688,0.9349229467760243,0.9656375995343338,-0.6459333657564639,-0.8617370335716663,0.13556055530984265,0.18127997761602774,-0.5767003897575835,-0.6904574541125693,0.38720676586198294,0.4625325626477574,0.8714886665142925,0.928564950786448,0.6066518117650537,0.6928691710732046,-0.05111906316228348,-0.05691251548808956,-0.7617606586575656,-0.9276581516448613,-0.17012330077453514,-0.1920851917296103,-0.26398951524885084,-0.2937242775518616,0.6715485467251427,0.7998918107736992,-0.7348112969572214,-0.778621003604325,-0.27677647873450406,-0.37026845004158154,0.34013582512391877,0.40176723076033793,0.6345435466192633,0.8484619242498461,-0.5534554471964029,-0.6879668752131171,0.8344823604855076,0.8636079146409098,0.7204160190269615,0.7371763764134913,-0.8208226640559791,-0.9092815717284239,-0.7396556069248166,-1.0,0.8819043215854104,-0.5318855599619107,-0.5915649290759345,0.531637187594073,0.6704016782309642,-0.5214741307990337,-0.6291439656162038,-0.635854799969227,-0.8938031819974603,0.7576278202078321,0.8582335400329208,0.007509104259649308,0.018201746874568867,0.1368323599894396,0.10992303987196257,0.48673250095115034,0.581905100358874,-0.5390456592552703,-0.7350747893837698,0.5652694329574278,0.7971749885057527,-0.43278963049259933,-0.5452614289630789,0.8962122199779567,0.8964336428759675,0.7739810160378303,0.9118596164911837,0.8186825362927879,0.9042752716000746,-0.5264832674377186,-0.583452756128951,-0.42167617179762074,-0.4574816135371373,-0.11460171512574123,-0.11980799854086359,0.051724210871508795,0.05859685901841607,0.46275471311481436,0.5363533328361733,-0.05321106862391068,0.7887410218248889,0.8246509122156963,-0.18151727664750694,-0.2136935578214858,-0.4179365610682295,-0.5267169683722513,-0.10803820596006611,-0.13318076572620133,-0.6196565295139792,-0.8351189291474653,0.20212156339937715,0.2612987815065724,0.10574159193629447,0.13082722231686736,-0.32950620414188614,-0.36183501094854387,-0.03250772355387575,-0.058693753843830083,0.5724158592764073,0.6904974595011272,0.6392052139750178,0.8806440669598838,0.29339890766985,0.2707844072650243,0.4906233414489257,0.6715236479959471,0.5904472392864843,0.6649382442594287,-0.8839313418850336,-0.9358732126376001,-0.5850198422405262,-0.6547807048364654,-0.019322341683517184,0.0001699880740031957,0.4360503889578213,0.4360537849490526,-0.7980370792772176,-0.9568540572962148,-0.4989747402614453,-0.480198123809742,0.2525065269388949,0.3096024563624537,0.05950173275661391,0.06728631459873669,0.5252509820769217,0.7893327957198876,0.8574844883046114,0.9600499076302585,-0.6022352108070752,-0.8411854364771925,-0.8083016453517654,-0.8115200228646683,-0.9308068242129195,-0.9830954921174216,0.4632067447145776,0.6113892751197992,0.565046354892374,0.8270503738900371,0.3477221605148598,0.3765036820562299,-0.43543522419461306,-0.4547610541774582,-0.704878592088879,-0.7540436937160346,-0.6906692343046078,-0.9453945885824295,0.9545184992281246,0.9472690141210232,-0.7222839113372678,-0.8045626999187288,-0.2749019260718806,-0.24815687080284368,0.5914803007867234,0.7594342272357444,0.5261243712444306,0.5649666783921329,0.4473565040746372,0.4855282097283903,-0.7762492632067055,-0.9705645243584982,-0.8184075721742309,-0.8928908379109497,-0.5867078865055311,-0.7421928552644329,-0.35609244984685745,-0.42585535149254333,0.6142691515176877,0.8893902930234909],\"y\":[-0.8342561888308044,-0.9635204891969334,0.6500750673600848,0.7453826774032003,-0.40703083061384376,-0.39659592334502847,0.08565482071413244,0.10605576535463863,0.6831874405732574,0.8635120672951899,-0.7980032577877998,-0.8346325850636224,-0.828919508521205,-0.8856694747020054,0.39039846932611194,0.46845008209607636,-0.7896074298745464,-0.8912457303023388,0.36412241825990926,0.3771625543344069,-0.10845788805838504,-0.11997395344755657,0.6988716362163886,0.8104801231568772,0.602745844024331,0.7253227438664386,0.09981817129007181,0.12229565799002023,-0.11427019732931055,-0.11749685704912803,0.3508351136482699,0.4597583919735409,0.7505567269274593,0.9251880715163578,0.5547927706617348,0.6652476108260745,0.7510195898519436,0.8967304221507766,-0.21561165803586915,-0.23316726944226143,0.4407508809442991,0.5147411783438729,-0.8527279641157449,-0.9656175321223134,0.21697244265812254,0.26762537147884524,0.818303346573417,0.9533169728390976,-0.8235125714193673,-0.9306748265345697,0.3559241888136866,0.42986000518415163,-0.47269969062240597,-0.5021983882699957,0.6346481437989503,0.8654884832646279,0.7183942213380187,0.8725233927483591,-0.419648710901424,-0.5512790217797313,-0.6164263064609612,-0.7586779352943358,-0.3717159216691489,-0.3674184690395615,-0.5774018118680828,-0.6021642746574283,0.33241103794467874,0.36632784512295347,-0.03565481336215304,-0.0407803665613559,-0.10585324832535398,0.5581238277777133,0.6146219996434598,0.48598374175524595,0.6171779205742698,0.671509123229243,0.8121902821024984,0.15931168515116353,0.22204714338010373,-0.27310313372049905,-0.30371838704381554,-0.7510736151817549,-0.9350309697409342,-0.9664892511813268,-0.9635428045547716,0.6742565889030989,0.8285778225540382,-0.4475658837631603,-0.5963871610710112,-0.35686179538181434,-0.49400092298488624,-0.612729709746712,-0.8079760346999345,0.12724149999932066,0.10347438748400671,0.20589059047913413,0.2483176634416201,0.30138770023717365,0.3351848394939195,0.6389366111722729,0.7190394837283363,0.7824533068181099,0.857731112730541,0.8855764532903379,0.9555985064019952,-0.78745250144983,-0.9741884271492095,-0.6783172263177003,-0.7588341773145887,-0.8804784593967703,-0.23847538507034174,-0.2548227277559983,-0.7838675886843418,-0.9586392819151591,-0.6772409615449487,-0.8772914543415318,-0.7880633504308477,-0.9872544422573919,0.42092104688825827,0.5494091955613678,0.722916777181851,0.9118189973342402,0.8100927334851542,0.9702466152855389,-0.7999884796718355,-0.9017387102507272,0.641719108541978,0.8648490658946884,-0.5917280800450125,-0.693780282510061,0.3046248330374837,0.4215613536524564,-0.8977449974010736,-0.9154224549305366,-0.561008690850215,-0.7638843709810734,-0.5594005080918575,-0.6314801416366692,-0.02435332639992489,-0.024598284444562152,0.5662692604898154,0.6655801462287083,0.9222722896683019,0.9405270504631056,0.7439514253309664,0.7732028976216841,0.0570385174966576,0.0658772147053671,0.7953795892509057,0.766463441036285,0.6782425158465766,0.8491184863267248,0.8719628090160514,0.935501857195976,0.4571972293430762,0.6676483761557427,0.20540513305407135,0.22682094798218272,-0.3182450016263829,-0.46054032982478676,-0.6479689190934544,-0.6765120711557283,-0.18977417023180868,-0.19876262469804803,-0.5808349745174036,-0.7423118986284345,0.3591884132444885,0.531689937643828,-0.7524630603374721,-0.8125099989335618,-0.7849564569717372,-0.828596902898897,0.6127950631875198,0.6573413482834924,-0.21250383091088318,-0.28213443593480697,0.007653258557249033,0.03315618359611247,0.3555528299903937,0.3977546112699889,0.9555982007223942,0.9488528462854886,0.39577594016374035,0.5298346794862219,-0.7700310925105966,-0.7590496415605221,-0.6195814058628429,-0.6478282728103084,0.12129549317944817,0.15447886496870297,-0.28758154411013487,-0.3163705860086688,-0.5475570249978083,-0.7015033240114207,-0.742278414343105,-0.9010594732140581,-0.32499224915962655,-0.44977784400235754],\"type\":\"scatter\"}],                        {\"hovermode\":\"closest\",\"margin\":{\"b\":20,\"l\":5,\"r\":5,\"t\":40},\"showlegend\":false,\"template\":{\"data\":{\"barpolar\":[{\"marker\":{\"line\":{\"color\":\"#E5ECF6\",\"width\":0.5},\"pattern\":{\"fillmode\":\"overlay\",\"size\":10,\"solidity\":0.2}},\"type\":\"barpolar\"}],\"bar\":[{\"error_x\":{\"color\":\"#2a3f5f\"},\"error_y\":{\"color\":\"#2a3f5f\"},\"marker\":{\"line\":{\"color\":\"#E5ECF6\",\"width\":0.5},\"pattern\":{\"fillmode\":\"overlay\",\"size\":10,\"solidity\":0.2}},\"type\":\"bar\"}],\"carpet\":[{\"aaxis\":{\"endlinecolor\":\"#2a3f5f\",\"gridcolor\":\"white\",\"linecolor\":\"white\",\"minorgridcolor\":\"white\",\"startlinecolor\":\"#2a3f5f\"},\"baxis\":{\"endlinecolor\":\"#2a3f5f\",\"gridcolor\":\"white\",\"linecolor\":\"white\",\"minorgridcolor\":\"white\",\"startlinecolor\":\"#2a3f5f\"},\"type\":\"carpet\"}],\"choropleth\":[{\"colorbar\":{\"outlinewidth\":0,\"ticks\":\"\"},\"type\":\"choropleth\"}],\"contourcarpet\":[{\"colorbar\":{\"outlinewidth\":0,\"ticks\":\"\"},\"type\":\"contourcarpet\"}],\"contour\":[{\"colorbar\":{\"outlinewidth\":0,\"ticks\":\"\"},\"colorscale\":[[0.0,\"#0d0887\"],[0.1111111111111111,\"#46039f\"],[0.2222222222222222,\"#7201a8\"],[0.3333333333333333,\"#9c179e\"],[0.4444444444444444,\"#bd3786\"],[0.5555555555555556,\"#d8576b\"],[0.6666666666666666,\"#ed7953\"],[0.7777777777777778,\"#fb9f3a\"],[0.8888888888888888,\"#fdca26\"],[1.0,\"#f0f921\"]],\"type\":\"contour\"}],\"heatmapgl\":[{\"colorbar\":{\"outlinewidth\":0,\"ticks\":\"\"},\"colorscale\":[[0.0,\"#0d0887\"],[0.1111111111111111,\"#46039f\"],[0.2222222222222222,\"#7201a8\"],[0.3333333333333333,\"#9c179e\"],[0.4444444444444444,\"#bd3786\"],[0.5555555555555556,\"#d8576b\"],[0.6666666666666666,\"#ed7953\"],[0.7777777777777778,\"#fb9f3a\"],[0.8888888888888888,\"#fdca26\"],[1.0,\"#f0f921\"]],\"type\":\"heatmapgl\"}],\"heatmap\":[{\"colorbar\":{\"outlinewidth\":0,\"ticks\":\"\"},\"colorscale\":[[0.0,\"#0d0887\"],[0.1111111111111111,\"#46039f\"],[0.2222222222222222,\"#7201a8\"],[0.3333333333333333,\"#9c179e\"],[0.4444444444444444,\"#bd3786\"],[0.5555555555555556,\"#d8576b\"],[0.6666666666666666,\"#ed7953\"],[0.7777777777777778,\"#fb9f3a\"],[0.8888888888888888,\"#fdca26\"],[1.0,\"#f0f921\"]],\"type\":\"heatmap\"}],\"histogram2dcontour\":[{\"colorbar\":{\"outlinewidth\":0,\"ticks\":\"\"},\"colorscale\":[[0.0,\"#0d0887\"],[0.1111111111111111,\"#46039f\"],[0.2222222222222222,\"#7201a8\"],[0.3333333333333333,\"#9c179e\"],[0.4444444444444444,\"#bd3786\"],[0.5555555555555556,\"#d8576b\"],[0.6666666666666666,\"#ed7953\"],[0.7777777777777778,\"#fb9f3a\"],[0.8888888888888888,\"#fdca26\"],[1.0,\"#f0f921\"]],\"type\":\"histogram2dcontour\"}],\"histogram2d\":[{\"colorbar\":{\"outlinewidth\":0,\"ticks\":\"\"},\"colorscale\":[[0.0,\"#0d0887\"],[0.1111111111111111,\"#46039f\"],[0.2222222222222222,\"#7201a8\"],[0.3333333333333333,\"#9c179e\"],[0.4444444444444444,\"#bd3786\"],[0.5555555555555556,\"#d8576b\"],[0.6666666666666666,\"#ed7953\"],[0.7777777777777778,\"#fb9f3a\"],[0.8888888888888888,\"#fdca26\"],[1.0,\"#f0f921\"]],\"type\":\"histogram2d\"}],\"histogram\":[{\"marker\":{\"pattern\":{\"fillmode\":\"overlay\",\"size\":10,\"solidity\":0.2}},\"type\":\"histogram\"}],\"mesh3d\":[{\"colorbar\":{\"outlinewidth\":0,\"ticks\":\"\"},\"type\":\"mesh3d\"}],\"parcoords\":[{\"line\":{\"colorbar\":{\"outlinewidth\":0,\"ticks\":\"\"}},\"type\":\"parcoords\"}],\"pie\":[{\"automargin\":true,\"type\":\"pie\"}],\"scatter3d\":[{\"line\":{\"colorbar\":{\"outlinewidth\":0,\"ticks\":\"\"}},\"marker\":{\"colorbar\":{\"outlinewidth\":0,\"ticks\":\"\"}},\"type\":\"scatter3d\"}],\"scattercarpet\":[{\"marker\":{\"colorbar\":{\"outlinewidth\":0,\"ticks\":\"\"}},\"type\":\"scattercarpet\"}],\"scattergeo\":[{\"marker\":{\"colorbar\":{\"outlinewidth\":0,\"ticks\":\"\"}},\"type\":\"scattergeo\"}],\"scattergl\":[{\"marker\":{\"colorbar\":{\"outlinewidth\":0,\"ticks\":\"\"}},\"type\":\"scattergl\"}],\"scattermapbox\":[{\"marker\":{\"colorbar\":{\"outlinewidth\":0,\"ticks\":\"\"}},\"type\":\"scattermapbox\"}],\"scatterpolargl\":[{\"marker\":{\"colorbar\":{\"outlinewidth\":0,\"ticks\":\"\"}},\"type\":\"scatterpolargl\"}],\"scatterpolar\":[{\"marker\":{\"colorbar\":{\"outlinewidth\":0,\"ticks\":\"\"}},\"type\":\"scatterpolar\"}],\"scatter\":[{\"fillpattern\":{\"fillmode\":\"overlay\",\"size\":10,\"solidity\":0.2},\"type\":\"scatter\"}],\"scatterternary\":[{\"marker\":{\"colorbar\":{\"outlinewidth\":0,\"ticks\":\"\"}},\"type\":\"scatterternary\"}],\"surface\":[{\"colorbar\":{\"outlinewidth\":0,\"ticks\":\"\"},\"colorscale\":[[0.0,\"#0d0887\"],[0.1111111111111111,\"#46039f\"],[0.2222222222222222,\"#7201a8\"],[0.3333333333333333,\"#9c179e\"],[0.4444444444444444,\"#bd3786\"],[0.5555555555555556,\"#d8576b\"],[0.6666666666666666,\"#ed7953\"],[0.7777777777777778,\"#fb9f3a\"],[0.8888888888888888,\"#fdca26\"],[1.0,\"#f0f921\"]],\"type\":\"surface\"}],\"table\":[{\"cells\":{\"fill\":{\"color\":\"#EBF0F8\"},\"line\":{\"color\":\"white\"}},\"header\":{\"fill\":{\"color\":\"#C8D4E3\"},\"line\":{\"color\":\"white\"}},\"type\":\"table\"}]},\"layout\":{\"annotationdefaults\":{\"arrowcolor\":\"#2a3f5f\",\"arrowhead\":0,\"arrowwidth\":1},\"autotypenumbers\":\"strict\",\"coloraxis\":{\"colorbar\":{\"outlinewidth\":0,\"ticks\":\"\"}},\"colorscale\":{\"diverging\":[[0,\"#8e0152\"],[0.1,\"#c51b7d\"],[0.2,\"#de77ae\"],[0.3,\"#f1b6da\"],[0.4,\"#fde0ef\"],[0.5,\"#f7f7f7\"],[0.6,\"#e6f5d0\"],[0.7,\"#b8e186\"],[0.8,\"#7fbc41\"],[0.9,\"#4d9221\"],[1,\"#276419\"]],\"sequential\":[[0.0,\"#0d0887\"],[0.1111111111111111,\"#46039f\"],[0.2222222222222222,\"#7201a8\"],[0.3333333333333333,\"#9c179e\"],[0.4444444444444444,\"#bd3786\"],[0.5555555555555556,\"#d8576b\"],[0.6666666666666666,\"#ed7953\"],[0.7777777777777778,\"#fb9f3a\"],[0.8888888888888888,\"#fdca26\"],[1.0,\"#f0f921\"]],\"sequentialminus\":[[0.0,\"#0d0887\"],[0.1111111111111111,\"#46039f\"],[0.2222222222222222,\"#7201a8\"],[0.3333333333333333,\"#9c179e\"],[0.4444444444444444,\"#bd3786\"],[0.5555555555555556,\"#d8576b\"],[0.6666666666666666,\"#ed7953\"],[0.7777777777777778,\"#fb9f3a\"],[0.8888888888888888,\"#fdca26\"],[1.0,\"#f0f921\"]]},\"colorway\":[\"#636efa\",\"#EF553B\",\"#00cc96\",\"#ab63fa\",\"#FFA15A\",\"#19d3f3\",\"#FF6692\",\"#B6E880\",\"#FF97FF\",\"#FECB52\"],\"font\":{\"color\":\"#2a3f5f\"},\"geo\":{\"bgcolor\":\"white\",\"lakecolor\":\"white\",\"landcolor\":\"#E5ECF6\",\"showlakes\":true,\"showland\":true,\"subunitcolor\":\"white\"},\"hoverlabel\":{\"align\":\"left\"},\"hovermode\":\"closest\",\"mapbox\":{\"style\":\"light\"},\"paper_bgcolor\":\"white\",\"plot_bgcolor\":\"#E5ECF6\",\"polar\":{\"angularaxis\":{\"gridcolor\":\"white\",\"linecolor\":\"white\",\"ticks\":\"\"},\"bgcolor\":\"#E5ECF6\",\"radialaxis\":{\"gridcolor\":\"white\",\"linecolor\":\"white\",\"ticks\":\"\"}},\"scene\":{\"xaxis\":{\"backgroundcolor\":\"#E5ECF6\",\"gridcolor\":\"white\",\"gridwidth\":2,\"linecolor\":\"white\",\"showbackground\":true,\"ticks\":\"\",\"zerolinecolor\":\"white\"},\"yaxis\":{\"backgroundcolor\":\"#E5ECF6\",\"gridcolor\":\"white\",\"gridwidth\":2,\"linecolor\":\"white\",\"showbackground\":true,\"ticks\":\"\",\"zerolinecolor\":\"white\"},\"zaxis\":{\"backgroundcolor\":\"#E5ECF6\",\"gridcolor\":\"white\",\"gridwidth\":2,\"linecolor\":\"white\",\"showbackground\":true,\"ticks\":\"\",\"zerolinecolor\":\"white\"}},\"shapedefaults\":{\"line\":{\"color\":\"#2a3f5f\"}},\"ternary\":{\"aaxis\":{\"gridcolor\":\"white\",\"linecolor\":\"white\",\"ticks\":\"\"},\"baxis\":{\"gridcolor\":\"white\",\"linecolor\":\"white\",\"ticks\":\"\"},\"bgcolor\":\"#E5ECF6\",\"caxis\":{\"gridcolor\":\"white\",\"linecolor\":\"white\",\"ticks\":\"\"}},\"title\":{\"x\":0.05},\"xaxis\":{\"automargin\":true,\"gridcolor\":\"white\",\"linecolor\":\"white\",\"ticks\":\"\",\"title\":{\"standoff\":15},\"zerolinecolor\":\"white\",\"zerolinewidth\":2},\"yaxis\":{\"automargin\":true,\"gridcolor\":\"white\",\"linecolor\":\"white\",\"ticks\":\"\",\"title\":{\"standoff\":15},\"zerolinecolor\":\"white\",\"zerolinewidth\":2}}},\"xaxis\":{\"showgrid\":false,\"showticklabels\":false,\"zeroline\":false},\"yaxis\":{\"showgrid\":false,\"showticklabels\":false,\"zeroline\":false}},                        {\"responsive\": true}                    ).then(function(){\n",
       "                            \n",
       "var gd = document.getElementById('90af76d8-df9a-4f7e-a463-02c39c11020e');\n",
       "var x = new MutationObserver(function (mutations, observer) {{\n",
       "        var display = window.getComputedStyle(gd).display;\n",
       "        if (!display || display === 'none') {{\n",
       "            console.log([gd, 'removed!']);\n",
       "            Plotly.purge(gd);\n",
       "            observer.disconnect();\n",
       "        }}\n",
       "}});\n",
       "\n",
       "// Listen for the removal of the full notebook cells\n",
       "var notebookContainer = gd.closest('#notebook-container');\n",
       "if (notebookContainer) {{\n",
       "    x.observe(notebookContainer, {childList: true});\n",
       "}}\n",
       "\n",
       "// Listen for the clearing of the current output cell\n",
       "var outputEl = gd.closest('.output');\n",
       "if (outputEl) {{\n",
       "    x.observe(outputEl, {childList: true});\n",
       "}}\n",
       "\n",
       "                        })                };                });            </script>        </div>"
      ]
     },
     "metadata": {},
     "output_type": "display_data"
    }
   ],
   "source": [
    "visualize_kg_from_file(\n",
    "    file_path='./MKR-data/kg_final.txt',\n",
    "    entity_id2index=entity_id2index,\n",
    "    index_to_relation_name=index_to_relation_name,\n",
    "    relation_to_entity_types=relation_to_entity_types,\n",
    "    num_triples_to_plot=100 ,\n",
    "    min_relations_per_node=1\n",
    ")"
   ]
  },
  {
   "cell_type": "code",
   "execution_count": null,
   "metadata": {},
   "outputs": [],
   "source": []
  },
  {
   "cell_type": "code",
   "execution_count": null,
   "metadata": {},
   "outputs": [],
   "source": []
  },
  {
   "cell_type": "code",
   "execution_count": 7,
   "metadata": {},
   "outputs": [],
   "source": [
    "# Preparar los datos para el entrenamiento y la evaluación\n",
    "ratings = np.loadtxt('./MKR-data/ratings_final.txt', dtype=np.int32)\n",
    "train_data, eval_data, test_data = dataset_split(ratings)\n",
    "\n",
    "# Convertir los conjuntos de datos a DataLoader\n",
    "train_loader = DataLoader(TrainSet(train_data), batch_size=64, shuffle=True)\n",
    "val_loader = DataLoader(TrainSet(eval_data), batch_size=64, shuffle=True)\n",
    "eval_loader = DataLoader(TrainSet(test_data), batch_size=64, shuffle=False)\n"
   ]
  },
  {
   "cell_type": "code",
   "execution_count": 8,
   "metadata": {},
   "outputs": [
    {
     "name": "stdout",
     "output_type": "stream",
     "text": [
      "Training dataset summary:\n",
      "Total examples: 34392, Positive examples: 14443.0, Negative examples: 19949.0\n",
      "Positive proportion: 0.42\n",
      "\n",
      "Evaluation dataset summary:\n",
      "Total examples: 11464, Positive examples: 4856.0, Negative examples: 6608.0\n",
      "Positive proportion: 0.42\n",
      "\n",
      "Sample batch from eval_loader:\n",
      "User tensor: tensor([ 8327,  1225,  9461,  8064,  6224,  3574,  8157,   268,  5008,  8872,\n",
      "         3144,  5964,  6084,  1242,  9617,  9239,  8788,  1454,   477,  7409,\n",
      "         7712,   351,  9166,  3600,  6388,  3443,  9122,  3875,  7501,  8924,\n",
      "         6068,  9823,  4825,  2931,  7819,  3994,  7999,   425,  6741,  5695,\n",
      "          905,  4595,  9601,     0,  5701,  6954,  3050,  3554, 10678,  8750,\n",
      "         3225,  4894, 10474,  1766,   800,  1539,   322,  5071, 10556,  2243,\n",
      "         8940,   901,  3882,  9614])\n",
      "Item tensor: tensor([ 3155,  3894,  9158,  3257,  1787,    81, 14265,   750, 12386,  1804,\n",
      "         1345, 11477,  5123,   356,    43,  4041,   533,   240,     5,  7451,\n",
      "         1446,   578, 14773,   467,   490,  9507,  8704,  9885,    64, 11741,\n",
      "        10647,  1581,  1188,  1947,  1607, 10207,  2993,   787, 14244, 11728,\n",
      "          804,  2077,     6, 12944,    24,  9080,   523,  1676,  4399,   490,\n",
      "         1442,  9244,   196,  4370,  2630,  1110,   573, 12521,   356,   849,\n",
      "          998,   510,  7837,   183])\n",
      "Target tensor: tensor([0., 0., 1., 0., 0., 1., 1., 0., 0., 0., 0., 0., 1., 0., 0., 1., 1., 0.,\n",
      "        1., 0., 0., 1., 0., 0., 0., 1., 0., 0., 1., 1., 0., 0., 1., 1., 1., 0.,\n",
      "        1., 1., 0., 0., 1., 0., 0., 0., 0., 0., 0., 0., 0., 1., 0., 0., 1., 0.,\n",
      "        0., 0., 0., 1., 1., 0., 0., 0., 1., 1.])\n"
     ]
    }
   ],
   "source": [
    "print(\"Training dataset summary:\")\n",
    "summarize_dataset(TrainSet(train_data))\n",
    "\n",
    "print(\"\\nEvaluation dataset summary:\")\n",
    "summarize_dataset(TrainSet(eval_data))\n",
    "\n",
    "# Comprobar una muestra de los datos cargados\n",
    "sample_user, sample_item, sample_target = next(iter(eval_loader))\n",
    "print(\"\\nSample batch from eval_loader:\")\n",
    "print(f\"User tensor: {sample_user}\")\n",
    "print(f\"Item tensor: {sample_item}\")\n",
    "print(f\"Target tensor: {sample_target}\")\n"
   ]
  },
  {
   "cell_type": "code",
   "execution_count": null,
   "metadata": {},
   "outputs": [],
   "source": []
  },
  {
   "cell_type": "code",
   "execution_count": 9,
   "metadata": {},
   "outputs": [],
   "source": [
    "# Inicializar el modelo MultiKR\n",
    "user_num = len(np.unique(ratings[:, 0]))  # Número de usuarios únicos\n",
    "item_num = len(_)  # Número de ítems únicos\n",
    "entity_num = len(entity_id2index)  # Número de entidades únicas\n",
    "relation_num = len(relation_id2index)  # Número de relaciones únicas\n",
    "model = MultiKR(user_num, item_num, entity_num, relation_num, n_layer=2, embed_dim=64, hidden_layers=[128, 64], dropouts=[0.5, 0.5], output_rec=1)"
   ]
  },
  {
   "cell_type": "code",
   "execution_count": 18,
   "metadata": {},
   "outputs": [
    {
     "data": {
      "text/plain": [
       "MultiKR(\n",
       "  (user_embed): Embedding(10765, 64)\n",
       "  (item_embed): Embedding(0, 64)\n",
       "  (entity_embed): Embedding(24127, 64)\n",
       "  (relation_embed): Embedding(10, 64)\n",
       "  (compress_weights): ParameterDict(\n",
       "      (ee): Parameter containing: [torch.FloatTensor of size 64x1]\n",
       "      (ev): Parameter containing: [torch.FloatTensor of size 64x1]\n",
       "      (ve): Parameter containing: [torch.FloatTensor of size 64x1]\n",
       "      (vv): Parameter containing: [torch.FloatTensor of size 64x1]\n",
       "  )\n",
       "  (compress_biases): ParameterDict(\n",
       "      (e): Parameter containing: [torch.FloatTensor of size 1]\n",
       "      (v): Parameter containing: [torch.FloatTensor of size 1]\n",
       "  )\n",
       "  (kg_layers): Sequential(\n",
       "    (layer_0): Sequential(\n",
       "      (0): Linear(in_features=128, out_features=128, bias=True)\n",
       "      (1): LeakyReLU(negative_slope=0.01)\n",
       "      (2): Dropout(p=0.5, inplace=False)\n",
       "    )\n",
       "    (layer_1): Sequential(\n",
       "      (0): Linear(in_features=128, out_features=64, bias=True)\n",
       "      (1): LeakyReLU(negative_slope=0.01)\n",
       "      (2): Dropout(p=0.5, inplace=False)\n",
       "    )\n",
       "    (layer_2): Sequential(\n",
       "      (0): Linear(in_features=64, out_features=64, bias=True)\n",
       "      (1): LeakyReLU(negative_slope=0.01)\n",
       "    )\n",
       "  )\n",
       "  (rec_layers): Sequential(\n",
       "    (layer_0): Sequential(\n",
       "      (0): Linear(in_features=128, out_features=128, bias=True)\n",
       "      (1): LeakyReLU(negative_slope=0.01)\n",
       "      (2): Dropout(p=0.5, inplace=False)\n",
       "    )\n",
       "    (layer_1): Sequential(\n",
       "      (0): Linear(in_features=128, out_features=64, bias=True)\n",
       "      (1): LeakyReLU(negative_slope=0.01)\n",
       "      (2): Dropout(p=0.5, inplace=False)\n",
       "    )\n",
       "    (layer_2): Sequential(\n",
       "      (0): Linear(in_features=64, out_features=1, bias=True)\n",
       "      (1): LeakyReLU(negative_slope=0.01)\n",
       "    )\n",
       "  )\n",
       "  (user_low_mlp_layer): Sequential(\n",
       "    (0): Linear(in_features=64, out_features=64, bias=True)\n",
       "    (1): LeakyReLU(negative_slope=0.01)\n",
       "    (2): Dropout(p=0.5, inplace=False)\n",
       "  )\n",
       ")"
      ]
     },
     "execution_count": 18,
     "metadata": {},
     "output_type": "execute_result"
    }
   ],
   "source": [
    "model"
   ]
  },
  {
   "cell_type": "code",
   "execution_count": 10,
   "metadata": {},
   "outputs": [],
   "source": [
    "import torch\n",
    "# Definir el optimizador y la función de pérdida\n",
    "optimizer = torch.optim.Adam(model.parameters(), lr=0.001)\n",
    "loss_function = torch.nn.BCEWithLogitsLoss()"
   ]
  },
  {
   "cell_type": "code",
   "execution_count": 11,
   "metadata": {},
   "outputs": [],
   "source": [
    "# # Número de épocas para entrenar\n",
    "epochs = 5\n",
    "\n",
    "# # Listas para almacenar resultados de entrenamiento y validación\n",
    "# train_losses = []\n",
    "# val_losses = []\n",
    "# val_aucs = []\n",
    "\n",
    "# # Entrenamiento y evaluación\n",
    "# for epoch in range(epochs):\n",
    "#     train_loss, val_loss, val_auc = train_and_evaluate(model, train_loader, val_loader, optimizer, loss_function, epoch, 'rec')\n",
    "#     train_losses.append(train_loss)\n",
    "#     val_losses.append(val_loss)\n",
    "#     val_aucs.append(val_auc)\n",
    "\n",
    "# # Graficar pérdidas y AUC\n",
    "# fig, axs = plt.subplots(2, 1, figsize=(10, 10))\n",
    "# axs[0].plot(range(1, epochs+1), train_losses, label='Training Loss')\n",
    "# axs[0].plot(range(1, epochs+1), val_losses, label='Validation Loss')\n",
    "# axs[0].set_title(\"Loss Over Epochs\")\n",
    "# axs[0].set_xlabel('Epoch')\n",
    "# axs[0].set_ylabel('Loss')\n",
    "# axs[0].legend()\n",
    "\n",
    "# axs[1].plot(range(1, epochs+1), val_aucs, label='Validation AUC')\n",
    "# axs[1].set_title(\"Validation AUC Over Epochs\")\n",
    "# axs[1].set_xlabel('Epoch')\n",
    "# axs[1].set_ylabel('AUC')\n",
    "# axs[1].legend()\n",
    "\n",
    "# plt.tight_layout()\n",
    "# plt.show()\n",
    "\n"
   ]
  },
  {
   "cell_type": "code",
   "execution_count": 12,
   "metadata": {},
   "outputs": [],
   "source": [
    "# evaluate_model(model, eval_loader, epoch)"
   ]
  },
  {
   "cell_type": "code",
   "execution_count": null,
   "metadata": {},
   "outputs": [],
   "source": []
  },
  {
   "cell_type": "code",
   "execution_count": null,
   "metadata": {},
   "outputs": [],
   "source": []
  },
  {
   "cell_type": "code",
   "execution_count": null,
   "metadata": {},
   "outputs": [],
   "source": []
  },
  {
   "cell_type": "code",
   "execution_count": null,
   "metadata": {},
   "outputs": [],
   "source": []
  },
  {
   "cell_type": "code",
   "execution_count": null,
   "metadata": {},
   "outputs": [],
   "source": []
  },
  {
   "cell_type": "code",
   "execution_count": null,
   "metadata": {},
   "outputs": [],
   "source": []
  },
  {
   "cell_type": "code",
   "execution_count": null,
   "metadata": {},
   "outputs": [],
   "source": []
  },
  {
   "cell_type": "code",
   "execution_count": 13,
   "metadata": {},
   "outputs": [],
   "source": [
    "# Define tus variables y valores posibles\n",
    "variables = define_variables_for_multiKR()\n",
    "possible_values = define_possible_values_for_multiKR()\n",
    "\n",
    "# Define la frecuencia inicial para los valores posibles de cada variable\n",
    "frequency = define_initial_frequency(variables, possible_values)\n",
    "\n",
    "# Convierte `possible_values` a una estructura compatible con CategoricalSampling si es necesario\n",
    "possible_values_numeric = {i: possible_values[var] for i, var in enumerate(variables)}\n",
    "frequency_numeric = {i: [1/len(possible_values[var])] * len(possible_values[var]) for i, var in enumerate(variables)}\n"
   ]
  },
  {
   "cell_type": "code",
   "execution_count": 14,
   "metadata": {},
   "outputs": [
    {
     "data": {
      "text/plain": [
       "{0: [32, 64, 128],\n",
       " 1: [0.01, 0.001, 0.0001],\n",
       " 2: [64, 128, 256],\n",
       " 3: ['64',\n",
       "  '128',\n",
       "  '256',\n",
       "  '64_64',\n",
       "  '128_128',\n",
       "  '256_256',\n",
       "  '64_128',\n",
       "  '128_256',\n",
       "  '128_64',\n",
       "  '256_128',\n",
       "  '64_128_256',\n",
       "  '256_128_64',\n",
       "  '64_64_64',\n",
       "  '128_128_128',\n",
       "  '256_256_256'],\n",
       " 4: [0.5, 0.3, 0.1],\n",
       " 5: [1],\n",
       " 6: [5, 10, 15]}"
      ]
     },
     "execution_count": 14,
     "metadata": {},
     "output_type": "execute_result"
    }
   ],
   "source": [
    "possible_values_numeric"
   ]
  },
  {
   "cell_type": "code",
   "execution_count": 15,
   "metadata": {},
   "outputs": [],
   "source": [
    "from EDAspy.optimization import EBNA\n",
    "\n",
    "# Inicializar EBNA con el espacio de soluciones y frecuencias definidas\n",
    "ebna = EBNA(\n",
    "    size_gen=10, \n",
    "    max_iter=20, \n",
    "    dead_iter=5, \n",
    "    n_variables=len(variables), \n",
    "    alpha=0.5, \n",
    "    possible_values=possible_values_numeric, \n",
    "    frequency=frequency_numeric\n",
    ")"
   ]
  },
  {
   "cell_type": "code",
   "execution_count": 16,
   "metadata": {},
   "outputs": [],
   "source": [
    "# Definir la función de envoltura para EBNA\n",
    "multiKR_cost_wrapper = lambda solution: multiKR_cost_function(decode_solution(solution))"
   ]
  },
  {
   "cell_type": "code",
   "execution_count": 17,
   "metadata": {},
   "outputs": [
    {
     "name": "stderr",
     "output_type": "stream",
     "text": [
      "Epoch 1 Loss: 0.6710951738887363:  13%|█▎        | 135/1075 [00:09<01:04, 14.53it/s]\n"
     ]
    },
    {
     "ename": "KeyboardInterrupt",
     "evalue": "",
     "output_type": "error",
     "traceback": [
      "\u001b[0;31m---------------------------------------------------------------------------\u001b[0m",
      "\u001b[0;31mKeyboardInterrupt\u001b[0m                         Traceback (most recent call last)",
      "Cell \u001b[0;32mIn[17], line 2\u001b[0m\n\u001b[1;32m      1\u001b[0m \u001b[38;5;66;03m# Ejecutar EBNA\u001b[39;00m\n\u001b[0;32m----> 2\u001b[0m ebna_result \u001b[38;5;241m=\u001b[39m \u001b[43mebna\u001b[49m\u001b[38;5;241;43m.\u001b[39;49m\u001b[43mminimize\u001b[49m\u001b[43m(\u001b[49m\u001b[43mmultiKR_cost_wrapper\u001b[49m\u001b[43m)\u001b[49m\n",
      "File \u001b[0;32m~/anaconda3/envs/transformers/lib/python3.8/site-packages/EDAspy/optimization/eda.py:157\u001b[0m, in \u001b[0;36mEDA.minimize\u001b[0;34m(self, cost_function, output_runtime, *args, **kwargs)\u001b[0m\n\u001b[1;32m    155\u001b[0m t1 \u001b[38;5;241m=\u001b[39m process_time()\n\u001b[1;32m    156\u001b[0m \u001b[38;5;28mself\u001b[39m\u001b[38;5;241m.\u001b[39mgeneration \u001b[38;5;241m=\u001b[39m \u001b[38;5;28mself\u001b[39m\u001b[38;5;241m.\u001b[39m_initialize_generation()\n\u001b[0;32m--> 157\u001b[0m \u001b[38;5;28;43mself\u001b[39;49m\u001b[38;5;241;43m.\u001b[39;49m\u001b[43m_check_generation\u001b[49m\u001b[43m(\u001b[49m\u001b[43mcost_function\u001b[49m\u001b[43m)\u001b[49m\n\u001b[1;32m    159\u001b[0m \u001b[38;5;66;03m# select just one item to be the elite selection if first iteration\u001b[39;00m\n\u001b[1;32m    160\u001b[0m \u001b[38;5;28mself\u001b[39m\u001b[38;5;241m.\u001b[39melite_temp \u001b[38;5;241m=\u001b[39m np\u001b[38;5;241m.\u001b[39marray([\u001b[38;5;28mself\u001b[39m\u001b[38;5;241m.\u001b[39mgeneration[\u001b[38;5;241m0\u001b[39m, :]])\n",
      "File \u001b[0;32m~/anaconda3/envs/transformers/lib/python3.8/site-packages/EDAspy/optimization/eda.py:115\u001b[0m, in \u001b[0;36mEDA._check_generation_no_parallel\u001b[0;34m(self, objective_function)\u001b[0m\n\u001b[1;32m    114\u001b[0m \u001b[38;5;28;01mdef\u001b[39;00m \u001b[38;5;21m_check_generation_no_parallel\u001b[39m(\u001b[38;5;28mself\u001b[39m, objective_function: \u001b[38;5;28mcallable\u001b[39m):\n\u001b[0;32m--> 115\u001b[0m     \u001b[38;5;28mself\u001b[39m\u001b[38;5;241m.\u001b[39mevaluations \u001b[38;5;241m=\u001b[39m \u001b[43mnp\u001b[49m\u001b[38;5;241;43m.\u001b[39;49m\u001b[43mapply_along_axis\u001b[49m\u001b[43m(\u001b[49m\u001b[43mobjective_function\u001b[49m\u001b[43m,\u001b[49m\u001b[43m \u001b[49m\u001b[38;5;241;43m1\u001b[39;49m\u001b[43m,\u001b[49m\u001b[43m \u001b[49m\u001b[38;5;28;43mself\u001b[39;49m\u001b[38;5;241;43m.\u001b[39;49m\u001b[43mgeneration\u001b[49m\u001b[43m)\u001b[49m\n",
      "File \u001b[0;32m<__array_function__ internals>:200\u001b[0m, in \u001b[0;36mapply_along_axis\u001b[0;34m(*args, **kwargs)\u001b[0m\n",
      "File \u001b[0;32m~/anaconda3/envs/transformers/lib/python3.8/site-packages/numpy/lib/shape_base.py:379\u001b[0m, in \u001b[0;36mapply_along_axis\u001b[0;34m(func1d, axis, arr, *args, **kwargs)\u001b[0m\n\u001b[1;32m    375\u001b[0m \u001b[38;5;28;01mexcept\u001b[39;00m \u001b[38;5;167;01mStopIteration\u001b[39;00m \u001b[38;5;28;01mas\u001b[39;00m e:\n\u001b[1;32m    376\u001b[0m     \u001b[38;5;28;01mraise\u001b[39;00m \u001b[38;5;167;01mValueError\u001b[39;00m(\n\u001b[1;32m    377\u001b[0m         \u001b[38;5;124m'\u001b[39m\u001b[38;5;124mCannot apply_along_axis when any iteration dimensions are 0\u001b[39m\u001b[38;5;124m'\u001b[39m\n\u001b[1;32m    378\u001b[0m     ) \u001b[38;5;28;01mfrom\u001b[39;00m \u001b[38;5;28;01mNone\u001b[39;00m\n\u001b[0;32m--> 379\u001b[0m res \u001b[38;5;241m=\u001b[39m asanyarray(\u001b[43mfunc1d\u001b[49m\u001b[43m(\u001b[49m\u001b[43minarr_view\u001b[49m\u001b[43m[\u001b[49m\u001b[43mind0\u001b[49m\u001b[43m]\u001b[49m\u001b[43m,\u001b[49m\u001b[43m \u001b[49m\u001b[38;5;241;43m*\u001b[39;49m\u001b[43margs\u001b[49m\u001b[43m,\u001b[49m\u001b[43m \u001b[49m\u001b[38;5;241;43m*\u001b[39;49m\u001b[38;5;241;43m*\u001b[39;49m\u001b[43mkwargs\u001b[49m\u001b[43m)\u001b[49m)\n\u001b[1;32m    381\u001b[0m \u001b[38;5;66;03m# build a buffer for storing evaluations of func1d.\u001b[39;00m\n\u001b[1;32m    382\u001b[0m \u001b[38;5;66;03m# remove the requested axis, and add the new ones on the end.\u001b[39;00m\n\u001b[1;32m    383\u001b[0m \u001b[38;5;66;03m# laid out so that each write is contiguous.\u001b[39;00m\n\u001b[1;32m    384\u001b[0m \u001b[38;5;66;03m# for a tuple index inds, buff[inds] = func1d(inarr_view[inds])\u001b[39;00m\n\u001b[1;32m    385\u001b[0m buff \u001b[38;5;241m=\u001b[39m zeros(inarr_view\u001b[38;5;241m.\u001b[39mshape[:\u001b[38;5;241m-\u001b[39m\u001b[38;5;241m1\u001b[39m] \u001b[38;5;241m+\u001b[39m res\u001b[38;5;241m.\u001b[39mshape, res\u001b[38;5;241m.\u001b[39mdtype)\n",
      "Cell \u001b[0;32mIn[16], line 2\u001b[0m, in \u001b[0;36m<lambda>\u001b[0;34m(solution)\u001b[0m\n\u001b[1;32m      1\u001b[0m \u001b[38;5;66;03m# Definir la función de envoltura para EBNA\u001b[39;00m\n\u001b[0;32m----> 2\u001b[0m multiKR_cost_wrapper \u001b[38;5;241m=\u001b[39m \u001b[38;5;28;01mlambda\u001b[39;00m solution: \u001b[43mmultiKR_cost_function\u001b[49m\u001b[43m(\u001b[49m\u001b[43mdecode_solution\u001b[49m\u001b[43m(\u001b[49m\u001b[43msolution\u001b[49m\u001b[43m)\u001b[49m\u001b[43m)\u001b[49m\n",
      "File \u001b[0;32m~/Escritorio/TFM/git/TFM/Victor/Codigo/GRAFOS/edas.py:69\u001b[0m, in \u001b[0;36mmultiKR_cost_function\u001b[0;34m(solution, type)\u001b[0m\n\u001b[1;32m     67\u001b[0m \u001b[38;5;66;03m# Entrenar el modelo\u001b[39;00m\n\u001b[1;32m     68\u001b[0m \u001b[38;5;28;01mfor\u001b[39;00m epoch \u001b[38;5;129;01min\u001b[39;00m \u001b[38;5;28mrange\u001b[39m(epochs):\n\u001b[0;32m---> 69\u001b[0m     train_loss \u001b[38;5;241m=\u001b[39m \u001b[43mtrain_epoch\u001b[49m\u001b[43m(\u001b[49m\u001b[43mmodel\u001b[49m\u001b[43m,\u001b[49m\u001b[43m \u001b[49m\u001b[43mtrain_loader\u001b[49m\u001b[43m,\u001b[49m\u001b[43m \u001b[49m\u001b[43moptimizer\u001b[49m\u001b[43m,\u001b[49m\u001b[43m \u001b[49m\u001b[43mloss_function\u001b[49m\u001b[43m,\u001b[49m\u001b[43m \u001b[49m\u001b[43mepoch\u001b[49m\u001b[43m,\u001b[49m\u001b[43m \u001b[49m\u001b[38;5;124;43m\"\u001b[39;49m\u001b[38;5;124;43mrec\u001b[39;49m\u001b[38;5;124;43m\"\u001b[39;49m\u001b[43m)\u001b[49m\n\u001b[1;32m     71\u001b[0m \u001b[38;5;66;03m# Evaluar el modelo usando val_loader para no filtrar información del conjunto de test\u001b[39;00m\n\u001b[1;32m     72\u001b[0m auc \u001b[38;5;241m=\u001b[39m evaluate_model(model, val_loader, epochs \u001b[38;5;241m-\u001b[39m \u001b[38;5;241m1\u001b[39m)\n",
      "File \u001b[0;32m~/Escritorio/TFM/git/TFM/Victor/Codigo/GRAFOS/train_and_evaluate.py:75\u001b[0m, in \u001b[0;36mtrain_epoch\u001b[0;34m(model, train_loader, optimizer, loss_function, epoch, task_type)\u001b[0m\n\u001b[1;32m     73\u001b[0m     predictions, true \u001b[38;5;241m=\u001b[39m model((user, item, target), train_type\u001b[38;5;241m=\u001b[39m\u001b[38;5;124m'\u001b[39m\u001b[38;5;124mkg\u001b[39m\u001b[38;5;124m'\u001b[39m)\n\u001b[1;32m     74\u001b[0m loss \u001b[38;5;241m=\u001b[39m loss_function(predictions, target)\n\u001b[0;32m---> 75\u001b[0m \u001b[43mloss\u001b[49m\u001b[38;5;241;43m.\u001b[39;49m\u001b[43mbackward\u001b[49m\u001b[43m(\u001b[49m\u001b[43m)\u001b[49m\n\u001b[1;32m     76\u001b[0m optimizer\u001b[38;5;241m.\u001b[39mstep()\n\u001b[1;32m     77\u001b[0m epoch_loss \u001b[38;5;241m+\u001b[39m\u001b[38;5;241m=\u001b[39m loss\u001b[38;5;241m.\u001b[39mitem()\n",
      "File \u001b[0;32m~/anaconda3/envs/transformers/lib/python3.8/site-packages/torch/tensor.py:245\u001b[0m, in \u001b[0;36mTensor.backward\u001b[0;34m(self, gradient, retain_graph, create_graph, inputs)\u001b[0m\n\u001b[1;32m    236\u001b[0m \u001b[38;5;28;01mif\u001b[39;00m has_torch_function_unary(\u001b[38;5;28mself\u001b[39m):\n\u001b[1;32m    237\u001b[0m     \u001b[38;5;28;01mreturn\u001b[39;00m handle_torch_function(\n\u001b[1;32m    238\u001b[0m         Tensor\u001b[38;5;241m.\u001b[39mbackward,\n\u001b[1;32m    239\u001b[0m         (\u001b[38;5;28mself\u001b[39m,),\n\u001b[0;32m   (...)\u001b[0m\n\u001b[1;32m    243\u001b[0m         create_graph\u001b[38;5;241m=\u001b[39mcreate_graph,\n\u001b[1;32m    244\u001b[0m         inputs\u001b[38;5;241m=\u001b[39minputs)\n\u001b[0;32m--> 245\u001b[0m \u001b[43mtorch\u001b[49m\u001b[38;5;241;43m.\u001b[39;49m\u001b[43mautograd\u001b[49m\u001b[38;5;241;43m.\u001b[39;49m\u001b[43mbackward\u001b[49m\u001b[43m(\u001b[49m\u001b[38;5;28;43mself\u001b[39;49m\u001b[43m,\u001b[49m\u001b[43m \u001b[49m\u001b[43mgradient\u001b[49m\u001b[43m,\u001b[49m\u001b[43m \u001b[49m\u001b[43mretain_graph\u001b[49m\u001b[43m,\u001b[49m\u001b[43m \u001b[49m\u001b[43mcreate_graph\u001b[49m\u001b[43m,\u001b[49m\u001b[43m \u001b[49m\u001b[43minputs\u001b[49m\u001b[38;5;241;43m=\u001b[39;49m\u001b[43minputs\u001b[49m\u001b[43m)\u001b[49m\n",
      "File \u001b[0;32m~/anaconda3/envs/transformers/lib/python3.8/site-packages/torch/autograd/__init__.py:145\u001b[0m, in \u001b[0;36mbackward\u001b[0;34m(tensors, grad_tensors, retain_graph, create_graph, grad_variables, inputs)\u001b[0m\n\u001b[1;32m    142\u001b[0m \u001b[38;5;28;01mif\u001b[39;00m retain_graph \u001b[38;5;129;01mis\u001b[39;00m \u001b[38;5;28;01mNone\u001b[39;00m:\n\u001b[1;32m    143\u001b[0m     retain_graph \u001b[38;5;241m=\u001b[39m create_graph\n\u001b[0;32m--> 145\u001b[0m \u001b[43mVariable\u001b[49m\u001b[38;5;241;43m.\u001b[39;49m\u001b[43m_execution_engine\u001b[49m\u001b[38;5;241;43m.\u001b[39;49m\u001b[43mrun_backward\u001b[49m\u001b[43m(\u001b[49m\n\u001b[1;32m    146\u001b[0m \u001b[43m    \u001b[49m\u001b[43mtensors\u001b[49m\u001b[43m,\u001b[49m\u001b[43m \u001b[49m\u001b[43mgrad_tensors_\u001b[49m\u001b[43m,\u001b[49m\u001b[43m \u001b[49m\u001b[43mretain_graph\u001b[49m\u001b[43m,\u001b[49m\u001b[43m \u001b[49m\u001b[43mcreate_graph\u001b[49m\u001b[43m,\u001b[49m\u001b[43m \u001b[49m\u001b[43minputs\u001b[49m\u001b[43m,\u001b[49m\n\u001b[1;32m    147\u001b[0m \u001b[43m    \u001b[49m\u001b[43mallow_unreachable\u001b[49m\u001b[38;5;241;43m=\u001b[39;49m\u001b[38;5;28;43;01mTrue\u001b[39;49;00m\u001b[43m,\u001b[49m\u001b[43m \u001b[49m\u001b[43maccumulate_grad\u001b[49m\u001b[38;5;241;43m=\u001b[39;49m\u001b[38;5;28;43;01mTrue\u001b[39;49;00m\u001b[43m)\u001b[49m\n",
      "\u001b[0;31mKeyboardInterrupt\u001b[0m: "
     ]
    }
   ],
   "source": [
    "# Ejecutar EBNA\n",
    "ebna_result = ebna.minimize(multiKR_cost_wrapper)"
   ]
  },
  {
   "cell_type": "code",
   "execution_count": null,
   "metadata": {},
   "outputs": [
    {
     "name": "stdout",
     "output_type": "stream",
     "text": [
      "\tNFVALS = 900 F = -0.7997439335254504CPU time (s) = 601865.699597767\n",
      "\tX = [64 0.0001 64 '64' 0.3 1 5]\n",
      "\tSettings: {'size_gen': 50, 'max_iter': 20, 'dead_iter': 5, 'n_variables': 7, 'alpha': 0.5, 'elite_factor': 0.4, 'disp': True, 'parallelize': False}\n",
      "\tHistory best cost per iteration: [-0.7916423933968317, -0.78423478206844, -0.78797105698676, -0.7920902440995001, -0.791345100284969, -0.7897323076022121, -0.7957303928623658, -0.7907798847026689, -0.7972417999925607, -0.7905870286306871, -0.7972657204056465, -0.7939990707984821, -0.7997439335254504, -0.7944810393021273, -0.7926492523042795, -0.7936018655313157, -0.7977988969442353, -0.793166836720115]\n"
     ]
    }
   ],
   "source": [
    "print(ebna_result)"
   ]
  },
  {
   "cell_type": "code",
   "execution_count": null,
   "metadata": {},
   "outputs": [
    {
     "data": {
      "image/png": "[encoded data removed]",
      "text/plain": [
       "<Figure size 1400x600 with 1 Axes>"
      ]
     },
     "metadata": {},
     "output_type": "display_data"
    }
   ],
   "source": [
    "import matplotlib.pyplot as plt\n",
    "auc_values = [-x for x in ebna_result.history]\n",
    "\n",
    "# Crear la figura y los ejes\n",
    "plt.figure(figsize=(14, 6))\n",
    "\n",
    "# Título y etiquetas\n",
    "plt.title('Mejor individuo por generación')\n",
    "plt.xlabel('Generación')\n",
    "plt.ylabel('AUC')\n",
    "\n",
    "# Corregir el rango del eje x para que comience en 1 y termine en el número de generaciones\n",
    "generations = list(range(1, len(auc_values) + 1))\n",
    "\n",
    "# Graficar la línea que muestra la mejora del AUC\n",
    "plt.plot(generations, auc_values, color='b', label='EBNA', marker='o')\n",
    "\n",
    "# Añadir una marca de dato en cada punto de la línea\n",
    "for i, auc in enumerate(auc_values, start=1):\n",
    "    plt.annotate(f'{auc:.4f}', (i, auc), textcoords=\"offset points\", xytext=(0,10), ha='center')\n",
    "\n",
    "# Mostrar la leyenda\n",
    "plt.legend()\n",
    "\n",
    "# Ajustar los límites del eje x para mejorar la presentación\n",
    "plt.xlim(0.5, len(auc_values) + 0.5)\n",
    "\n",
    "# Mostrar la gráfica\n",
    "plt.show()"
   ]
  },
  {
   "cell_type": "code",
   "execution_count": null,
   "metadata": {},
   "outputs": [
    {
     "data": {
      "image/png": "[encoded data removed]",
      "text/plain": [
       "<Figure size 640x480 with 1 Axes>"
      ]
     },
     "metadata": {},
     "output_type": "display_data"
    }
   ],
   "source": [
    "from EDAspy.optimization import plot_bn\n",
    "plot_bn(ebna.pm.print_structure(), var_names=variables)"
   ]
  }
 ],
 "metadata": {
  "kernelspec": {
   "display_name": "transformers",
   "language": "python",
   "name": "python3"
  },
  "language_info": {
   "codemirror_mode": {
    "name": "ipython",
    "version": 3
   },
   "file_extension": ".py",
   "mimetype": "text/x-python",
   "name": "python",
   "nbconvert_exporter": "python",
   "pygments_lexer": "ipython3",
   "version": "3.8.18"
  }
 },
 "nbformat": 4,
 "nbformat_minor": 2
}
